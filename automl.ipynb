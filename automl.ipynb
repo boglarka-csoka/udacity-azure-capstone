{
 "cells": [
  {
   "cell_type": "markdown",
   "metadata": {},
   "source": [
    "# Automated ML\n",
    "\n",
    "TODO: Import Dependencies. In the cell below, import all the dependencies that you will need to complete the project."
   ]
  },
  {
   "cell_type": "code",
   "execution_count": 8,
   "metadata": {
    "gather": {
     "logged": 1598423888013
    },
    "jupyter": {
     "outputs_hidden": false,
     "source_hidden": false
    },
    "nteract": {
     "transient": {
      "deleting": false
     }
    }
   },
   "outputs": [],
   "source": [
    "from azureml.core import Workspace, Experiment\n",
    "from azureml.widgets import RunDetails\n",
    "import pandas as pd\n",
    "from azureml.train.sklearn import SKLearn\n",
    "from azureml.train.hyperdrive.parameter_expressions import choice, uniform\n",
    "from azureml.core import Environment, ScriptRunConfig\n",
    "import os\n",
    "import joblib\n",
    "from azureml.data.dataset_factory import TabularDatasetFactory\n",
    "from sklearn.model_selection import train_test_split\n",
    "from azureml.train.automl import AutoMLConfig\n",
    "from azureml.core import Model"
   ]
  },
  {
   "cell_type": "markdown",
   "metadata": {},
   "source": [
    "## Dataset\n",
    "\n",
    "### Overview\n",
    "TODO: In this markdown cell, give an overview of the dataset you are using. Also mention the task you will be performing.\n",
    "\n",
    "I'm using the bank marketing dataset which was provided for previous projects. My code will perform a classification task.\n",
    "\n",
    "TODO: Get data. In the cell below, write code to access the data you will be using in this project. Remember that the dataset needs to be external."
   ]
  },
  {
   "cell_type": "code",
   "execution_count": 6,
   "metadata": {},
   "outputs": [
    {
     "data": {
      "text/html": [
       "<div>\n",
       "<style scoped>\n",
       "    .dataframe tbody tr th:only-of-type {\n",
       "        vertical-align: middle;\n",
       "    }\n",
       "\n",
       "    .dataframe tbody tr th {\n",
       "        vertical-align: top;\n",
       "    }\n",
       "\n",
       "    .dataframe thead th {\n",
       "        text-align: right;\n",
       "    }\n",
       "</style>\n",
       "<table border=\"1\" class=\"dataframe\">\n",
       "  <thead>\n",
       "    <tr style=\"text-align: right;\">\n",
       "      <th></th>\n",
       "      <th>age</th>\n",
       "      <th>job</th>\n",
       "      <th>marital</th>\n",
       "      <th>education</th>\n",
       "      <th>default</th>\n",
       "      <th>housing</th>\n",
       "      <th>loan</th>\n",
       "      <th>contact</th>\n",
       "      <th>month</th>\n",
       "      <th>day_of_week</th>\n",
       "      <th>...</th>\n",
       "      <th>campaign</th>\n",
       "      <th>pdays</th>\n",
       "      <th>previous</th>\n",
       "      <th>poutcome</th>\n",
       "      <th>emp.var.rate</th>\n",
       "      <th>cons.price.idx</th>\n",
       "      <th>cons.conf.idx</th>\n",
       "      <th>euribor3m</th>\n",
       "      <th>nr.employed</th>\n",
       "      <th>y</th>\n",
       "    </tr>\n",
       "  </thead>\n",
       "  <tbody>\n",
       "    <tr>\n",
       "      <th>0</th>\n",
       "      <td>57</td>\n",
       "      <td>technician</td>\n",
       "      <td>married</td>\n",
       "      <td>high.school</td>\n",
       "      <td>no</td>\n",
       "      <td>no</td>\n",
       "      <td>yes</td>\n",
       "      <td>cellular</td>\n",
       "      <td>may</td>\n",
       "      <td>mon</td>\n",
       "      <td>...</td>\n",
       "      <td>1</td>\n",
       "      <td>999</td>\n",
       "      <td>1</td>\n",
       "      <td>failure</td>\n",
       "      <td>-1.8</td>\n",
       "      <td>92.893</td>\n",
       "      <td>-46.2</td>\n",
       "      <td>1.299</td>\n",
       "      <td>5099.1</td>\n",
       "      <td>no</td>\n",
       "    </tr>\n",
       "    <tr>\n",
       "      <th>1</th>\n",
       "      <td>55</td>\n",
       "      <td>unknown</td>\n",
       "      <td>married</td>\n",
       "      <td>unknown</td>\n",
       "      <td>unknown</td>\n",
       "      <td>yes</td>\n",
       "      <td>no</td>\n",
       "      <td>telephone</td>\n",
       "      <td>may</td>\n",
       "      <td>thu</td>\n",
       "      <td>...</td>\n",
       "      <td>2</td>\n",
       "      <td>999</td>\n",
       "      <td>0</td>\n",
       "      <td>nonexistent</td>\n",
       "      <td>1.1</td>\n",
       "      <td>93.994</td>\n",
       "      <td>-36.4</td>\n",
       "      <td>4.860</td>\n",
       "      <td>5191.0</td>\n",
       "      <td>no</td>\n",
       "    </tr>\n",
       "    <tr>\n",
       "      <th>2</th>\n",
       "      <td>33</td>\n",
       "      <td>blue-collar</td>\n",
       "      <td>married</td>\n",
       "      <td>basic.9y</td>\n",
       "      <td>no</td>\n",
       "      <td>no</td>\n",
       "      <td>no</td>\n",
       "      <td>cellular</td>\n",
       "      <td>may</td>\n",
       "      <td>fri</td>\n",
       "      <td>...</td>\n",
       "      <td>1</td>\n",
       "      <td>999</td>\n",
       "      <td>1</td>\n",
       "      <td>failure</td>\n",
       "      <td>-1.8</td>\n",
       "      <td>92.893</td>\n",
       "      <td>-46.2</td>\n",
       "      <td>1.313</td>\n",
       "      <td>5099.1</td>\n",
       "      <td>no</td>\n",
       "    </tr>\n",
       "    <tr>\n",
       "      <th>3</th>\n",
       "      <td>36</td>\n",
       "      <td>admin.</td>\n",
       "      <td>married</td>\n",
       "      <td>high.school</td>\n",
       "      <td>no</td>\n",
       "      <td>no</td>\n",
       "      <td>no</td>\n",
       "      <td>telephone</td>\n",
       "      <td>jun</td>\n",
       "      <td>fri</td>\n",
       "      <td>...</td>\n",
       "      <td>4</td>\n",
       "      <td>999</td>\n",
       "      <td>0</td>\n",
       "      <td>nonexistent</td>\n",
       "      <td>1.4</td>\n",
       "      <td>94.465</td>\n",
       "      <td>-41.8</td>\n",
       "      <td>4.967</td>\n",
       "      <td>5228.1</td>\n",
       "      <td>no</td>\n",
       "    </tr>\n",
       "    <tr>\n",
       "      <th>4</th>\n",
       "      <td>27</td>\n",
       "      <td>housemaid</td>\n",
       "      <td>married</td>\n",
       "      <td>high.school</td>\n",
       "      <td>no</td>\n",
       "      <td>yes</td>\n",
       "      <td>no</td>\n",
       "      <td>cellular</td>\n",
       "      <td>jul</td>\n",
       "      <td>fri</td>\n",
       "      <td>...</td>\n",
       "      <td>2</td>\n",
       "      <td>999</td>\n",
       "      <td>0</td>\n",
       "      <td>nonexistent</td>\n",
       "      <td>1.4</td>\n",
       "      <td>93.918</td>\n",
       "      <td>-42.7</td>\n",
       "      <td>4.963</td>\n",
       "      <td>5228.1</td>\n",
       "      <td>no</td>\n",
       "    </tr>\n",
       "    <tr>\n",
       "      <th>...</th>\n",
       "      <td>...</td>\n",
       "      <td>...</td>\n",
       "      <td>...</td>\n",
       "      <td>...</td>\n",
       "      <td>...</td>\n",
       "      <td>...</td>\n",
       "      <td>...</td>\n",
       "      <td>...</td>\n",
       "      <td>...</td>\n",
       "      <td>...</td>\n",
       "      <td>...</td>\n",
       "      <td>...</td>\n",
       "      <td>...</td>\n",
       "      <td>...</td>\n",
       "      <td>...</td>\n",
       "      <td>...</td>\n",
       "      <td>...</td>\n",
       "      <td>...</td>\n",
       "      <td>...</td>\n",
       "      <td>...</td>\n",
       "      <td>...</td>\n",
       "    </tr>\n",
       "    <tr>\n",
       "      <th>32945</th>\n",
       "      <td>56</td>\n",
       "      <td>housemaid</td>\n",
       "      <td>married</td>\n",
       "      <td>basic.4y</td>\n",
       "      <td>no</td>\n",
       "      <td>no</td>\n",
       "      <td>yes</td>\n",
       "      <td>cellular</td>\n",
       "      <td>jul</td>\n",
       "      <td>mon</td>\n",
       "      <td>...</td>\n",
       "      <td>1</td>\n",
       "      <td>999</td>\n",
       "      <td>0</td>\n",
       "      <td>nonexistent</td>\n",
       "      <td>1.4</td>\n",
       "      <td>93.918</td>\n",
       "      <td>-42.7</td>\n",
       "      <td>4.960</td>\n",
       "      <td>5228.1</td>\n",
       "      <td>no</td>\n",
       "    </tr>\n",
       "    <tr>\n",
       "      <th>32946</th>\n",
       "      <td>37</td>\n",
       "      <td>management</td>\n",
       "      <td>married</td>\n",
       "      <td>university.degree</td>\n",
       "      <td>no</td>\n",
       "      <td>no</td>\n",
       "      <td>yes</td>\n",
       "      <td>cellular</td>\n",
       "      <td>jul</td>\n",
       "      <td>fri</td>\n",
       "      <td>...</td>\n",
       "      <td>7</td>\n",
       "      <td>999</td>\n",
       "      <td>0</td>\n",
       "      <td>nonexistent</td>\n",
       "      <td>1.4</td>\n",
       "      <td>93.918</td>\n",
       "      <td>-42.7</td>\n",
       "      <td>4.957</td>\n",
       "      <td>5228.1</td>\n",
       "      <td>no</td>\n",
       "    </tr>\n",
       "    <tr>\n",
       "      <th>32947</th>\n",
       "      <td>26</td>\n",
       "      <td>admin.</td>\n",
       "      <td>single</td>\n",
       "      <td>university.degree</td>\n",
       "      <td>no</td>\n",
       "      <td>no</td>\n",
       "      <td>no</td>\n",
       "      <td>cellular</td>\n",
       "      <td>may</td>\n",
       "      <td>tue</td>\n",
       "      <td>...</td>\n",
       "      <td>4</td>\n",
       "      <td>999</td>\n",
       "      <td>1</td>\n",
       "      <td>failure</td>\n",
       "      <td>-1.8</td>\n",
       "      <td>92.893</td>\n",
       "      <td>-46.2</td>\n",
       "      <td>1.266</td>\n",
       "      <td>5099.1</td>\n",
       "      <td>no</td>\n",
       "    </tr>\n",
       "    <tr>\n",
       "      <th>32948</th>\n",
       "      <td>31</td>\n",
       "      <td>blue-collar</td>\n",
       "      <td>single</td>\n",
       "      <td>basic.9y</td>\n",
       "      <td>no</td>\n",
       "      <td>no</td>\n",
       "      <td>no</td>\n",
       "      <td>cellular</td>\n",
       "      <td>apr</td>\n",
       "      <td>mon</td>\n",
       "      <td>...</td>\n",
       "      <td>1</td>\n",
       "      <td>999</td>\n",
       "      <td>0</td>\n",
       "      <td>nonexistent</td>\n",
       "      <td>-1.8</td>\n",
       "      <td>93.075</td>\n",
       "      <td>-47.1</td>\n",
       "      <td>1.405</td>\n",
       "      <td>5099.1</td>\n",
       "      <td>no</td>\n",
       "    </tr>\n",
       "    <tr>\n",
       "      <th>32949</th>\n",
       "      <td>39</td>\n",
       "      <td>housemaid</td>\n",
       "      <td>married</td>\n",
       "      <td>basic.4y</td>\n",
       "      <td>no</td>\n",
       "      <td>no</td>\n",
       "      <td>no</td>\n",
       "      <td>cellular</td>\n",
       "      <td>aug</td>\n",
       "      <td>thu</td>\n",
       "      <td>...</td>\n",
       "      <td>1</td>\n",
       "      <td>999</td>\n",
       "      <td>0</td>\n",
       "      <td>nonexistent</td>\n",
       "      <td>1.4</td>\n",
       "      <td>93.444</td>\n",
       "      <td>-36.1</td>\n",
       "      <td>4.963</td>\n",
       "      <td>5228.1</td>\n",
       "      <td>no</td>\n",
       "    </tr>\n",
       "  </tbody>\n",
       "</table>\n",
       "<p>32950 rows × 21 columns</p>\n",
       "</div>"
      ],
      "text/plain": [
       "       age          job  marital          education  default housing loan  \\\n",
       "0       57   technician  married        high.school       no      no  yes   \n",
       "1       55      unknown  married            unknown  unknown     yes   no   \n",
       "2       33  blue-collar  married           basic.9y       no      no   no   \n",
       "3       36       admin.  married        high.school       no      no   no   \n",
       "4       27    housemaid  married        high.school       no     yes   no   \n",
       "...    ...          ...      ...                ...      ...     ...  ...   \n",
       "32945   56    housemaid  married           basic.4y       no      no  yes   \n",
       "32946   37   management  married  university.degree       no      no  yes   \n",
       "32947   26       admin.   single  university.degree       no      no   no   \n",
       "32948   31  blue-collar   single           basic.9y       no      no   no   \n",
       "32949   39    housemaid  married           basic.4y       no      no   no   \n",
       "\n",
       "         contact month day_of_week  ...  campaign  pdays  previous  \\\n",
       "0       cellular   may         mon  ...         1    999         1   \n",
       "1      telephone   may         thu  ...         2    999         0   \n",
       "2       cellular   may         fri  ...         1    999         1   \n",
       "3      telephone   jun         fri  ...         4    999         0   \n",
       "4       cellular   jul         fri  ...         2    999         0   \n",
       "...          ...   ...         ...  ...       ...    ...       ...   \n",
       "32945   cellular   jul         mon  ...         1    999         0   \n",
       "32946   cellular   jul         fri  ...         7    999         0   \n",
       "32947   cellular   may         tue  ...         4    999         1   \n",
       "32948   cellular   apr         mon  ...         1    999         0   \n",
       "32949   cellular   aug         thu  ...         1    999         0   \n",
       "\n",
       "          poutcome emp.var.rate  cons.price.idx  cons.conf.idx  euribor3m  \\\n",
       "0          failure         -1.8          92.893          -46.2      1.299   \n",
       "1      nonexistent          1.1          93.994          -36.4      4.860   \n",
       "2          failure         -1.8          92.893          -46.2      1.313   \n",
       "3      nonexistent          1.4          94.465          -41.8      4.967   \n",
       "4      nonexistent          1.4          93.918          -42.7      4.963   \n",
       "...            ...          ...             ...            ...        ...   \n",
       "32945  nonexistent          1.4          93.918          -42.7      4.960   \n",
       "32946  nonexistent          1.4          93.918          -42.7      4.957   \n",
       "32947      failure         -1.8          92.893          -46.2      1.266   \n",
       "32948  nonexistent         -1.8          93.075          -47.1      1.405   \n",
       "32949  nonexistent          1.4          93.444          -36.1      4.963   \n",
       "\n",
       "       nr.employed   y  \n",
       "0           5099.1  no  \n",
       "1           5191.0  no  \n",
       "2           5099.1  no  \n",
       "3           5228.1  no  \n",
       "4           5228.1  no  \n",
       "...            ...  ..  \n",
       "32945       5228.1  no  \n",
       "32946       5228.1  no  \n",
       "32947       5099.1  no  \n",
       "32948       5099.1  no  \n",
       "32949       5228.1  no  \n",
       "\n",
       "[32950 rows x 21 columns]"
      ]
     },
     "execution_count": 6,
     "metadata": {},
     "output_type": "execute_result"
    }
   ],
   "source": [
    "data = TabularDatasetFactory.from_delimited_files(path=\"https://automlsamplenotebookdata.blob.core.windows.net/automl-sample-notebook-data/bankmarketing_train.csv\")\n",
    "data_pd = ds.to_pandas_dataframe().dropna()\n",
    "data_pd"
   ]
  },
  {
   "cell_type": "code",
   "execution_count": 10,
   "metadata": {},
   "outputs": [],
   "source": [
    " train,test=train_test_split(data_pd,test_size=0.2,random_state=60)"
   ]
  },
  {
   "cell_type": "code",
   "execution_count": 9,
   "metadata": {
    "gather": {
     "logged": 1598423890461
    },
    "jupyter": {
     "outputs_hidden": false,
     "source_hidden": false
    },
    "nteract": {
     "transient": {
      "deleting": false
     }
    }
   },
   "outputs": [],
   "source": [
    "ws = Workspace.from_config()\n",
    "\n",
    "# choose a name for experiment\n",
    "experiment_name = 'AutoML_experiment'\n",
    "\n",
    "experiment=Experiment(ws, experiment_name)"
   ]
  },
  {
   "cell_type": "markdown",
   "metadata": {},
   "source": [
    "## AutoML Configuration\n",
    "\n",
    "TODO: Explain why you chose the automl settings and cofiguration you used below.\n",
    "\n",
    "I haven't used any special settings. My configuarion includes the experiment timeout to prevent the experiment to take to much time. Also I clarified that this is a classification where the primary metric is accuracy."
   ]
  },
  {
   "cell_type": "code",
   "execution_count": 11,
   "metadata": {
    "gather": {
     "logged": 1598429217746
    },
    "jupyter": {
     "outputs_hidden": false,
     "source_hidden": false
    },
    "nteract": {
     "transient": {
      "deleting": false
     }
    }
   },
   "outputs": [],
   "source": [
    "# TODO: Put your automl settings here\n",
    "automl_settings = {}\n",
    "\n",
    "# TODO: Put your automl config here\n",
    "\n",
    "automl_config = AutoMLConfig(\n",
    "    experiment_timeout_minutes=30,\n",
    "    task='classification',\n",
    "    primary_metric='accuracy',\n",
    "    training_data= train,\n",
    "    label_column_name='y',\n",
    "    n_cross_validations= 5)"
   ]
  },
  {
   "cell_type": "code",
   "execution_count": 12,
   "metadata": {
    "gather": {
     "logged": 1598431107951
    },
    "jupyter": {
     "outputs_hidden": false,
     "source_hidden": false
    },
    "nteract": {
     "transient": {
      "deleting": false
     }
    }
   },
   "outputs": [
    {
     "name": "stdout",
     "output_type": "stream",
     "text": [
      "No run_configuration provided, running on local with default configuration\n"
     ]
    },
    {
     "name": "stderr",
     "output_type": "stream",
     "text": [
      "2022-05-15:12:40:55,351 INFO     [modeling_bert.py:226] Better speed can be achieved with apex installed from https://www.github.com/nvidia/apex .\n",
      "2022-05-15:12:40:55,374 INFO     [modeling_xlnet.py:339] Better speed can be achieved with apex installed from https://www.github.com/nvidia/apex .\n",
      "2022-05-15:12:41:28,126 INFO     [font_manager.py:1337] generated new fontManager\n"
     ]
    },
    {
     "name": "stdout",
     "output_type": "stream",
     "text": [
      "Running in the active local environment.\n"
     ]
    },
    {
     "data": {
      "text/html": [
       "<table style=\"width:100%\"><tr><th>Experiment</th><th>Id</th><th>Type</th><th>Status</th><th>Details Page</th><th>Docs Page</th></tr><tr><td>AutoML_experiment</td><td>AutoML_baa48f77-fb5d-4aec-8819-131a07270c28</td><td>automl</td><td>Preparing</td><td><a href=\"https://ml.azure.com/runs/AutoML_baa48f77-fb5d-4aec-8819-131a07270c28?wsid=/subscriptions/3e42d11f-d64d-4173-af9b-12ecaa1030b3/resourcegroups/aml-quickstarts-195691/workspaces/quick-starts-ws-195691&amp;tid=660b3398-b80e-49d2-bc5b-ac1dc93b5254\" target=\"_blank\" rel=\"noopener\">Link to Azure Machine Learning studio</a></td><td><a href=\"https://docs.microsoft.com/en-us/python/api/overview/azure/ml/intro?view=azure-ml-py\" target=\"_blank\" rel=\"noopener\">Link to Documentation</a></td></tr></table>"
      ],
      "text/plain": [
       "<IPython.core.display.HTML object>"
      ]
     },
     "metadata": {},
     "output_type": "display_data"
    },
    {
     "name": "stdout",
     "output_type": "stream",
     "text": [
      "Current status: DatasetEvaluation. Gathering dataset statistics.\n",
      "Current status: FeaturesGeneration. Generating features for the dataset.\n",
      "Current status: DatasetFeaturization. Beginning to fit featurizers and featurize the dataset.\n",
      "Current status: DatasetFeaturizationCompleted. Completed fit featurizers and featurizing the dataset.\n",
      "Current status: DatasetBalancing. Performing class balancing sweeping\n",
      "Current status: DatasetCrossValidationSplit. Generating individually featurized CV splits.\n",
      "\n",
      "********************************************************************************************\n",
      "DATA GUARDRAILS: \n",
      "\n",
      "TYPE:         Class balancing detection\n",
      "STATUS:       ALERTED\n",
      "DESCRIPTION:  To decrease model bias, please cancel the current run and fix balancing problem.\n",
      "              Learn more about imbalanced data: https://aka.ms/AutomatedMLImbalancedData\n",
      "DETAILS:      Imbalanced data can lead to a falsely perceived positive effect of a model's accuracy because the input data has bias towards one class.\n",
      "+------------------------------+--------------------------------+--------------------------------------+\n",
      "|Size of the smallest class    |Name/Label of the smallest class|Number of samples in the training data|\n",
      "+==============================+================================+======================================+\n",
      "|2969                          |yes                             |26360                                 |\n",
      "+------------------------------+--------------------------------+--------------------------------------+\n",
      "\n",
      "********************************************************************************************\n",
      "\n",
      "TYPE:         Missing feature values imputation\n",
      "STATUS:       PASSED\n",
      "DESCRIPTION:  No feature missing values were detected in the training data.\n",
      "              Learn more about missing value imputation: https://aka.ms/AutomatedMLFeaturization\n",
      "\n",
      "********************************************************************************************\n",
      "\n",
      "TYPE:         High cardinality feature detection\n",
      "STATUS:       PASSED\n",
      "DESCRIPTION:  Your inputs were analyzed, and no high cardinality features were detected.\n",
      "              Learn more about high cardinality feature handling: https://aka.ms/AutomatedMLFeaturization\n",
      "\n",
      "********************************************************************************************\n",
      "Current status: ModelSelection. Beginning model selection.\n",
      "\n",
      "********************************************************************************************\n",
      "ITER: The iteration being evaluated.\n",
      "PIPELINE: A summary description of the pipeline being evaluated.\n",
      "DURATION: Time taken for the current iteration.\n",
      "METRIC: The result of computing score on the fitted pipeline.\n",
      "BEST: The best observed score thus far.\n",
      "********************************************************************************************\n",
      "\n",
      " ITER   PIPELINE                                       DURATION            METRIC      BEST\n",
      "    0   MaxAbsScaler LightGBM                          0:00:31             0.9142    0.9142\n",
      "    1   MaxAbsScaler XGBoostClassifier                 0:00:41             0.9138    0.9142\n",
      "    2   MaxAbsScaler ExtremeRandomTrees                0:00:32             0.7275    0.9142\n",
      "    3   SparseNormalizer XGBoostClassifier             0:00:35             0.9133    0.9142\n",
      "    4   MaxAbsScaler LightGBM                          0:00:28             0.9124    0.9142\n",
      "    5   MaxAbsScaler LightGBM                          0:00:27             0.8878    0.9142\n",
      "    6   StandardScalerWrapper XGBoostClassifier        0:00:30             0.9093    0.9142\n",
      "    7   MaxAbsScaler LogisticRegression                0:00:31             0.9084    0.9142\n",
      "    8   StandardScalerWrapper ExtremeRandomTrees       0:00:27             0.8877    0.9142\n",
      "    9   StandardScalerWrapper XGBoostClassifier        0:00:29             0.9127    0.9142\n",
      "   10   SparseNormalizer LightGBM                      0:00:26             0.9046    0.9142\n",
      "   11   StandardScalerWrapper XGBoostClassifier        0:00:28             0.9138    0.9142\n",
      "   12   MaxAbsScaler LogisticRegression                0:00:31             0.9087    0.9142\n",
      "   13   MaxAbsScaler SGD                               0:00:26             0.8598    0.9142\n",
      "   14   StandardScalerWrapper XGBoostClassifier        0:00:31             0.9129    0.9142\n",
      "   15   SparseNormalizer RandomForest                  0:00:48             0.8193    0.9142\n",
      "   16   StandardScalerWrapper LogisticRegression       0:00:29             0.9083    0.9142\n",
      "   17   StandardScalerWrapper RandomForest             0:00:35             0.9014    0.9142\n",
      "   18   StandardScalerWrapper XGBoostClassifier        0:00:33             0.9145    0.9145\n",
      "   19   TruncatedSVDWrapper RandomForest               0:02:58             0.8205    0.9145\n",
      "   20   TruncatedSVDWrapper RandomForest               0:03:35             0.8333    0.9145\n",
      "   21   StandardScalerWrapper XGBoostClassifier        0:00:30             0.9154    0.9154\n",
      "   22   StandardScalerWrapper LightGBM                 0:00:35             0.9146    0.9154\n",
      "   23   MaxAbsScaler LightGBM                          0:00:27             0.8874    0.9154\n",
      "   24   StandardScalerWrapper XGBoostClassifier        0:01:01             0.9158    0.9158\n",
      "   25   StandardScalerWrapper XGBoostClassifier        0:00:28             0.8874    0.9158\n",
      "   26   MaxAbsScaler LightGBM                          0:00:28             0.9100    0.9158\n",
      "   27   StandardScalerWrapper XGBoostClassifier        0:01:09             0.9095    0.9158\n",
      "   28   StandardScalerWrapper LightGBM                 0:00:28             0.9099    0.9158\n",
      "   29   StandardScalerWrapper ExtremeRandomTrees       0:01:31             0.8874    0.9158\n",
      "   30   SparseNormalizer XGBoostClassifier             0:00:39             0.9067    0.9158\n",
      "   31   StandardScalerWrapper XGBoostClassifier        0:01:30             0.9085    0.9158\n",
      "   32   MaxAbsScaler LightGBM                          0:00:27             0.8874    0.9158\n",
      "   33   MaxAbsScaler LightGBM                          0:00:31             0.9113    0.9158\n",
      "   34   StandardScalerWrapper XGBoostClassifier        0:01:44             0.9157    0.9158\n",
      "   35   VotingEnsemble                                 0:00:49             0.9176    0.9176\n",
      "   36   StackEnsemble                                  0:01:00             0.9175    0.9176\n",
      "Stopping criteria reached at iteration 37. Ending experiment.\n",
      "********************************************************************************************\n",
      "Current status: BestRunExplainModel. Best run model explanations started\n",
      "Current status: ModelExplanationDataSetSetup. Model explanations data setup completed\n",
      "Current status: PickSurrogateModel. Choosing LightGBM as the surrogate model for explanations\n",
      "Current status: EngineeredFeatureExplanations. Computation of engineered features started\n"
     ]
    },
    {
     "name": "stderr",
     "output_type": "stream",
     "text": [
      "2022-05-15:13:15:17,483 INFO     [explanation_client.py:334] Using default datastore for uploads\n"
     ]
    },
    {
     "name": "stdout",
     "output_type": "stream",
     "text": [
      "Current status: EngineeredFeatureExplanations. Computation of engineered features completed\n",
      "Current status: RawFeaturesExplanations. Computation of raw features started\n",
      "Current status: RawFeaturesExplanations. Computation of raw features completed\n",
      "Current status: BestRunExplainModel. Best run model explanations completed\n",
      "********************************************************************************************\n"
     ]
    }
   ],
   "source": [
    "# TODO: Submit your experiment\n",
    "remote_run = experiment.submit(automl_config,show_output=True)"
   ]
  },
  {
   "cell_type": "markdown",
   "metadata": {},
   "source": [
    "## Run Details\n",
    "\n",
    "OPTIONAL: Write about the different models trained and their performance. Why do you think some models did better than others?\n",
    "\n",
    "TODO: In the cell below, use the `RunDetails` widget to show the different experiments."
   ]
  },
  {
   "cell_type": "code",
   "execution_count": 13,
   "metadata": {
    "gather": {
     "logged": 1598431121770
    },
    "jupyter": {
     "outputs_hidden": false,
     "source_hidden": false
    },
    "nteract": {
     "transient": {
      "deleting": false
     }
    }
   },
   "outputs": [
    {
     "data": {
      "application/vnd.jupyter.widget-view+json": {
       "model_id": "0fb6cdf7c7f44982bb3968922ed0bfab",
       "version_major": 2,
       "version_minor": 0
      },
      "text/plain": [
       "_AutoMLWidget(widget_settings={'childWidgetDisplay': 'popup', 'send_telemetry': False, 'log_level': 'INFO', 's…"
      ]
     },
     "metadata": {},
     "output_type": "display_data"
    },
    {
     "data": {
      "application/aml.mini.widget.v1": "{\"status\": \"Completed\", \"workbench_run_details_uri\": \"https://ml.azure.com/runs/AutoML_baa48f77-fb5d-4aec-8819-131a07270c28?wsid=/subscriptions/3e42d11f-d64d-4173-af9b-12ecaa1030b3/resourcegroups/aml-quickstarts-195691/workspaces/quick-starts-ws-195691&tid=660b3398-b80e-49d2-bc5b-ac1dc93b5254\", \"run_id\": \"AutoML_baa48f77-fb5d-4aec-8819-131a07270c28\", \"run_properties\": {\"run_id\": \"AutoML_baa48f77-fb5d-4aec-8819-131a07270c28\", \"created_utc\": \"2022-05-15T12:41:30.625246Z\", \"properties\": {\"num_iterations\": \"1000\", \"training_type\": \"TrainFull\", \"acquisition_function\": \"EI\", \"primary_metric\": \"accuracy\", \"train_split\": \"0\", \"acquisition_parameter\": \"0\", \"num_cross_validation\": \"5\", \"target\": \"local\", \"AMLSettingsJsonString\": \"{\\\"path\\\":null,\\\"name\\\":\\\"AutoML_experiment\\\",\\\"subscription_id\\\":\\\"3e42d11f-d64d-4173-af9b-12ecaa1030b3\\\",\\\"resource_group\\\":\\\"aml-quickstarts-195691\\\",\\\"workspace_name\\\":\\\"quick-starts-ws-195691\\\",\\\"region\\\":\\\"southcentralus\\\",\\\"compute_target\\\":\\\"local\\\",\\\"spark_service\\\":null,\\\"azure_service\\\":\\\"Microsoft.AzureNotebookVM\\\",\\\"many_models\\\":false,\\\"pipeline_fetch_max_batch_size\\\":1,\\\"enable_batch_run\\\":false,\\\"enable_run_restructure\\\":false,\\\"start_auxiliary_runs_before_parent_complete\\\":false,\\\"enable_code_generation\\\":false,\\\"iterations\\\":1000,\\\"primary_metric\\\":\\\"accuracy\\\",\\\"task_type\\\":\\\"classification\\\",\\\"positive_label\\\":null,\\\"data_script\\\":null,\\\"test_size\\\":0.0,\\\"test_include_predictions_only\\\":false,\\\"validation_size\\\":0.0,\\\"n_cross_validations\\\":5,\\\"y_min\\\":null,\\\"y_max\\\":null,\\\"num_classes\\\":null,\\\"featurization\\\":\\\"auto\\\",\\\"_ignore_package_version_incompatibilities\\\":false,\\\"is_timeseries\\\":false,\\\"max_cores_per_iteration\\\":1,\\\"max_concurrent_iterations\\\":1,\\\"iteration_timeout_minutes\\\":null,\\\"mem_in_mb\\\":null,\\\"enforce_time_on_windows\\\":false,\\\"experiment_timeout_minutes\\\":30,\\\"experiment_exit_score\\\":null,\\\"partition_column_names\\\":null,\\\"whitelist_models\\\":null,\\\"blacklist_algos\\\":[\\\"TensorFlowLinearClassifier\\\",\\\"TensorFlowDNN\\\"],\\\"supported_models\\\":[\\\"BernoulliNaiveBayes\\\",\\\"SVM\\\",\\\"TensorFlowDNN\\\",\\\"TabnetClassifier\\\",\\\"TensorFlowLinearClassifier\\\",\\\"RandomForest\\\",\\\"KNN\\\",\\\"LightGBM\\\",\\\"SGD\\\",\\\"LinearSVM\\\",\\\"ExtremeRandomTrees\\\",\\\"XGBoostClassifier\\\",\\\"GradientBoosting\\\",\\\"MultinomialNaiveBayes\\\",\\\"AveragedPerceptronClassifier\\\",\\\"DecisionTree\\\",\\\"LogisticRegression\\\"],\\\"private_models\\\":[],\\\"auto_blacklist\\\":true,\\\"blacklist_samples_reached\\\":false,\\\"exclude_nan_labels\\\":true,\\\"verbosity\\\":20,\\\"_debug_log\\\":\\\"automl.log\\\",\\\"show_warnings\\\":false,\\\"model_explainability\\\":true,\\\"service_url\\\":null,\\\"sdk_url\\\":null,\\\"sdk_packages\\\":null,\\\"enable_onnx_compatible_models\\\":false,\\\"enable_split_onnx_featurizer_estimator_models\\\":false,\\\"vm_type\\\":null,\\\"telemetry_verbosity\\\":20,\\\"send_telemetry\\\":true,\\\"enable_dnn\\\":false,\\\"scenario\\\":\\\"SDK-1.13.0\\\",\\\"environment_label\\\":null,\\\"save_mlflow\\\":false,\\\"enable_categorical_indicators\\\":false,\\\"force_text_dnn\\\":false,\\\"enable_feature_sweeping\\\":true,\\\"enable_early_stopping\\\":true,\\\"early_stopping_n_iters\\\":10,\\\"arguments\\\":null,\\\"dataset_id\\\":null,\\\"hyperdrive_config\\\":null,\\\"validation_dataset_id\\\":null,\\\"run_source\\\":null,\\\"metrics\\\":null,\\\"enable_metric_confidence\\\":false,\\\"enable_ensembling\\\":true,\\\"enable_stack_ensembling\\\":true,\\\"ensemble_iterations\\\":15,\\\"enable_tf\\\":false,\\\"enable_subsampling\\\":null,\\\"subsample_seed\\\":null,\\\"enable_nimbusml\\\":false,\\\"enable_streaming\\\":false,\\\"force_streaming\\\":false,\\\"track_child_runs\\\":true,\\\"allowed_private_models\\\":[],\\\"label_column_name\\\":\\\"y\\\",\\\"weight_column_name\\\":null,\\\"cv_split_column_names\\\":null,\\\"enable_local_managed\\\":false,\\\"_local_managed_run_id\\\":null,\\\"cost_mode\\\":1,\\\"lag_length\\\":0,\\\"metric_operation\\\":\\\"maximize\\\",\\\"preprocess\\\":true}\", \"DataPrepJsonString\": null, \"EnableSubsampling\": null, \"runTemplate\": \"AutoML\", \"azureml.runsource\": \"automl\", \"display_task_type\": \"classification\", \"dependencies_versions\": \"{\\\"azureml-widgets\\\": \\\"1.40.0\\\", \\\"azureml-training-tabular\\\": \\\"1.40.0\\\", \\\"azureml-train\\\": \\\"1.40.0\\\", \\\"azureml-train-restclients-hyperdrive\\\": \\\"1.40.0\\\", \\\"azureml-train-core\\\": \\\"1.40.0\\\", \\\"azureml-train-automl\\\": \\\"1.40.0\\\", \\\"azureml-train-automl-runtime\\\": \\\"1.40.0.post1\\\", \\\"azureml-train-automl-client\\\": \\\"1.40.0\\\", \\\"azureml-tensorboard\\\": \\\"1.40.0\\\", \\\"azureml-telemetry\\\": \\\"1.40.0\\\", \\\"azureml-sdk\\\": \\\"1.40.0\\\", \\\"azureml-samples\\\": \\\"0+unknown\\\", \\\"azureml-responsibleai\\\": \\\"1.40.0\\\", \\\"azureml-pipeline\\\": \\\"1.40.0\\\", \\\"azureml-pipeline-steps\\\": \\\"1.40.0\\\", \\\"azureml-pipeline-core\\\": \\\"1.40.0\\\", \\\"azureml-opendatasets\\\": \\\"1.40.0\\\", \\\"azureml-mlflow\\\": \\\"1.40.0\\\", \\\"azureml-interpret\\\": \\\"1.40.0\\\", \\\"azureml-inference-server-http\\\": \\\"0.4.11\\\", \\\"azureml-explain-model\\\": \\\"1.40.0\\\", \\\"azureml-defaults\\\": \\\"1.40.0\\\", \\\"azureml-dataset-runtime\\\": \\\"1.40.0\\\", \\\"azureml-dataprep\\\": \\\"3.0.0\\\", \\\"azureml-dataprep-rslex\\\": \\\"2.4.0\\\", \\\"azureml-dataprep-native\\\": \\\"38.0.0\\\", \\\"azureml-datadrift\\\": \\\"1.40.0\\\", \\\"azureml-core\\\": \\\"1.40.0\\\", \\\"azureml-contrib-services\\\": \\\"1.40.0\\\", \\\"azureml-contrib-server\\\": \\\"1.40.0\\\", \\\"azureml-contrib-reinforcementlearning\\\": \\\"1.40.0\\\", \\\"azureml-contrib-pipeline-steps\\\": \\\"1.40.0\\\", \\\"azureml-contrib-notebook\\\": \\\"1.40.0\\\", \\\"azureml-contrib-fairness\\\": \\\"1.40.0\\\", \\\"azureml-contrib-dataset\\\": \\\"1.40.0\\\", \\\"azureml-contrib-automl-pipeline-steps\\\": \\\"1.40.0\\\", \\\"azureml-cli-common\\\": \\\"1.40.0\\\", \\\"azureml-automl-runtime\\\": \\\"1.40.0\\\", \\\"azureml-automl-dnn-nlp\\\": \\\"1.40.0\\\", \\\"azureml-automl-core\\\": \\\"1.40.0\\\", \\\"azureml-accel-models\\\": \\\"1.40.0\\\"}\", \"_aml_system_scenario_identification\": \"Local.Parent\", \"ClientSdkVersion\": \"1.40.0\", \"ClientType\": \"SDK\", \"environment_cpu_name\": \"AzureML-AutoML\", \"environment_cpu_label\": \"prod\", \"environment_gpu_name\": \"AzureML-AutoML-GPU\", \"environment_gpu_label\": \"prod\", \"root_attribution\": \"automl\", \"attribution\": \"AutoML\", \"Orchestrator\": \"AutoML\", \"_azureml.ComputeTargetType\": \"local\", \"ProblemInfoJsonString\": \"{\\\"dataset_num_categorical\\\": 0, \\\"is_sparse\\\": true, \\\"subsampling\\\": false, \\\"has_extra_col\\\": true, \\\"dataset_classes\\\": 2, \\\"dataset_features\\\": 130, \\\"dataset_samples\\\": 26360, \\\"single_frequency_class_detected\\\": false}\"}, \"tags\": {\"model_explain_run\": \"best_run\", \"_aml_system_automl_run_workspace_id\": \"34a3751f-e728-4333-86a2-8de415201db3\", \"best_score\": \"0.9176024279210925\", \"best_pipeline\": \"VotingEnsemble\", \"automl_best_child_run_id\": \"AutoML_baa48f77-fb5d-4aec-8819-131a07270c28_35\", \"model_explain_best_run_child_id\": \"AutoML_baa48f77-fb5d-4aec-8819-131a07270c28_35\"}, \"end_time_utc\": \"2022-05-15T13:13:04.203828Z\", \"status\": \"Completed\", \"log_files\": {}, \"log_groups\": [], \"run_duration\": \"0:31:33\", \"run_number\": \"1652618490\", \"run_queued_details\": {\"status\": \"Completed\", \"details\": null}}, \"child_runs\": [{\"run_id\": \"AutoML_baa48f77-fb5d-4aec-8819-131a07270c28_0\", \"run_number\": 1652618532, \"metric\": null, \"status\": \"Completed\", \"run_type\": null, \"training_percent\": \"100\", \"start_time\": \"2022-05-15T12:42:12.475806Z\", \"end_time\": \"2022-05-15T12:42:43.568928Z\", \"created_time\": \"2022-05-15T12:42:12.333571Z\", \"created_time_dt\": \"2022-05-15T12:42:12.333571Z\", \"duration\": \"0:00:31\", \"iteration\": \"0\", \"goal\": \"accuracy_max\", \"run_name\": \"MaxAbsScaler, LightGBM\", \"run_properties\": \"copy=True\", \"primary_metric\": 0.91415023, \"best_metric\": 0.91415023}, {\"run_id\": \"AutoML_baa48f77-fb5d-4aec-8819-131a07270c28_1\", \"run_number\": 1652618563, \"metric\": null, \"status\": \"Completed\", \"run_type\": null, \"training_percent\": \"100\", \"start_time\": \"2022-05-15T12:42:43.927672Z\", \"end_time\": \"2022-05-15T12:43:25.150017Z\", \"created_time\": \"2022-05-15T12:42:43.804725Z\", \"created_time_dt\": \"2022-05-15T12:42:43.804725Z\", \"duration\": \"0:00:41\", \"iteration\": \"1\", \"goal\": \"accuracy_max\", \"run_name\": \"MaxAbsScaler, XGBoostClassifier\", \"run_properties\": \"copy=True\", \"primary_metric\": 0.9138088, \"best_metric\": 0.91415023}, {\"run_id\": \"AutoML_baa48f77-fb5d-4aec-8819-131a07270c28_2\", \"run_number\": 1652618605, \"metric\": null, \"status\": \"Completed\", \"run_type\": null, \"training_percent\": \"100\", \"start_time\": \"2022-05-15T12:43:25.867587Z\", \"end_time\": \"2022-05-15T12:43:58.724477Z\", \"created_time\": \"2022-05-15T12:43:25.777238Z\", \"created_time_dt\": \"2022-05-15T12:43:25.777238Z\", \"duration\": \"0:00:32\", \"iteration\": \"2\", \"goal\": \"accuracy_max\", \"run_name\": \"MaxAbsScaler, ExtremeRandomTrees\", \"run_properties\": \"copy=True\", \"primary_metric\": 0.72754173, \"best_metric\": 0.91415023}, {\"run_id\": \"AutoML_baa48f77-fb5d-4aec-8819-131a07270c28_3\", \"run_number\": 1652618640, \"metric\": null, \"status\": \"Completed\", \"run_type\": null, \"training_percent\": \"100\", \"start_time\": \"2022-05-15T12:44:00.228836Z\", \"end_time\": \"2022-05-15T12:44:35.146373Z\", \"created_time\": \"2022-05-15T12:44:00.121634Z\", \"created_time_dt\": \"2022-05-15T12:44:00.121634Z\", \"duration\": \"0:00:35\", \"iteration\": \"3\", \"goal\": \"accuracy_max\", \"run_name\": \"SparseNormalizer, XGBoostClassifier\", \"run_properties\": \"copy=True, norm='l2'\", \"primary_metric\": 0.91331563, \"best_metric\": 0.91415023}, {\"run_id\": \"AutoML_baa48f77-fb5d-4aec-8819-131a07270c28_4\", \"run_number\": 1652618676, \"metric\": null, \"status\": \"Completed\", \"run_type\": null, \"training_percent\": \"100\", \"start_time\": \"2022-05-15T12:44:36.595438Z\", \"end_time\": \"2022-05-15T12:45:04.567005Z\", \"created_time\": \"2022-05-15T12:44:36.457186Z\", \"created_time_dt\": \"2022-05-15T12:44:36.457186Z\", \"duration\": \"0:00:28\", \"iteration\": \"4\", \"goal\": \"accuracy_max\", \"run_name\": \"MaxAbsScaler, LightGBM\", \"run_properties\": \"copy=True\", \"primary_metric\": 0.9124431, \"best_metric\": 0.91415023}, {\"run_id\": \"AutoML_baa48f77-fb5d-4aec-8819-131a07270c28_5\", \"run_number\": 1652618705, \"metric\": null, \"status\": \"Completed\", \"run_type\": null, \"training_percent\": \"100\", \"start_time\": \"2022-05-15T12:45:05.936641Z\", \"end_time\": \"2022-05-15T12:45:33.016835Z\", \"created_time\": \"2022-05-15T12:45:05.833256Z\", \"created_time_dt\": \"2022-05-15T12:45:05.833256Z\", \"duration\": \"0:00:27\", \"iteration\": \"5\", \"goal\": \"accuracy_max\", \"run_name\": \"MaxAbsScaler, LightGBM\", \"run_properties\": \"copy=True\", \"primary_metric\": 0.88778452, \"best_metric\": 0.91415023}, {\"run_id\": \"AutoML_baa48f77-fb5d-4aec-8819-131a07270c28_6\", \"run_number\": 1652618734, \"metric\": null, \"status\": \"Completed\", \"run_type\": null, \"training_percent\": \"100\", \"start_time\": \"2022-05-15T12:45:34.77935Z\", \"end_time\": \"2022-05-15T12:46:05.553346Z\", \"created_time\": \"2022-05-15T12:45:34.632697Z\", \"created_time_dt\": \"2022-05-15T12:45:34.632697Z\", \"duration\": \"0:00:30\", \"iteration\": \"6\", \"goal\": \"accuracy_max\", \"run_name\": \"StandardScalerWrapper, XGBoostClassifier\", \"run_properties\": \"copy=True, with_mean=False, with_std=False\", \"primary_metric\": 0.90925645, \"best_metric\": 0.91415023}, {\"run_id\": \"AutoML_baa48f77-fb5d-4aec-8819-131a07270c28_7\", \"run_number\": 1652618766, \"metric\": null, \"status\": \"Completed\", \"run_type\": null, \"training_percent\": \"100\", \"start_time\": \"2022-05-15T12:46:06.891826Z\", \"end_time\": \"2022-05-15T12:46:38.586658Z\", \"created_time\": \"2022-05-15T12:46:06.793594Z\", \"created_time_dt\": \"2022-05-15T12:46:06.793594Z\", \"duration\": \"0:00:31\", \"iteration\": \"7\", \"goal\": \"accuracy_max\", \"run_name\": \"MaxAbsScaler, LogisticRegression\", \"run_properties\": \"copy=True\", \"primary_metric\": 0.90842185, \"best_metric\": 0.91415023}, {\"run_id\": \"AutoML_baa48f77-fb5d-4aec-8819-131a07270c28_8\", \"run_number\": 1652618800, \"metric\": null, \"status\": \"Completed\", \"run_type\": null, \"training_percent\": \"100\", \"start_time\": \"2022-05-15T12:46:40.27119Z\", \"end_time\": \"2022-05-15T12:47:08.114439Z\", \"created_time\": \"2022-05-15T12:46:40.162326Z\", \"created_time_dt\": \"2022-05-15T12:46:40.162326Z\", \"duration\": \"0:00:27\", \"iteration\": \"8\", \"goal\": \"accuracy_max\", \"run_name\": \"StandardScalerWrapper, ExtremeRandomTrees\", \"run_properties\": \"copy=True, with_mean=False, with_std=False\", \"primary_metric\": 0.88767071, \"best_metric\": 0.91415023}, {\"run_id\": \"AutoML_baa48f77-fb5d-4aec-8819-131a07270c28_9\", \"run_number\": 1652618829, \"metric\": null, \"status\": \"Completed\", \"run_type\": null, \"training_percent\": \"100\", \"start_time\": \"2022-05-15T12:47:09.51149Z\", \"end_time\": \"2022-05-15T12:47:38.873157Z\", \"created_time\": \"2022-05-15T12:47:09.388412Z\", \"created_time_dt\": \"2022-05-15T12:47:09.388412Z\", \"duration\": \"0:00:29\", \"iteration\": \"9\", \"goal\": \"accuracy_max\", \"run_name\": \"StandardScalerWrapper, XGBoostClassifier\", \"run_properties\": \"copy=True, with_mean=False, with_std=False\", \"primary_metric\": 0.91270865, \"best_metric\": 0.91415023}, {\"run_id\": \"AutoML_baa48f77-fb5d-4aec-8819-131a07270c28_10\", \"run_number\": 1652618860, \"metric\": null, \"status\": \"Completed\", \"run_type\": null, \"training_percent\": \"100\", \"start_time\": \"2022-05-15T12:47:40.19484Z\", \"end_time\": \"2022-05-15T12:48:07.049996Z\", \"created_time\": \"2022-05-15T12:47:40.075374Z\", \"created_time_dt\": \"2022-05-15T12:47:40.075374Z\", \"duration\": \"0:00:26\", \"iteration\": \"10\", \"goal\": \"accuracy_max\", \"run_name\": \"SparseNormalizer, LightGBM\", \"run_properties\": \"copy=True, norm='l1'\", \"primary_metric\": 0.90462822, \"best_metric\": 0.91415023}, {\"run_id\": \"AutoML_baa48f77-fb5d-4aec-8819-131a07270c28_11\", \"run_number\": 1652618888, \"metric\": null, \"status\": \"Completed\", \"run_type\": null, \"training_percent\": \"100\", \"start_time\": \"2022-05-15T12:48:08.468744Z\", \"end_time\": \"2022-05-15T12:48:36.948505Z\", \"created_time\": \"2022-05-15T12:48:08.375667Z\", \"created_time_dt\": \"2022-05-15T12:48:08.375667Z\", \"duration\": \"0:00:28\", \"iteration\": \"11\", \"goal\": \"accuracy_max\", \"run_name\": \"StandardScalerWrapper, XGBoostClassifier\", \"run_properties\": \"copy=True, with_mean=False, with_std=False\", \"primary_metric\": 0.91384674, \"best_metric\": 0.91415023}, {\"run_id\": \"AutoML_baa48f77-fb5d-4aec-8819-131a07270c28_12\", \"run_number\": 1652618918, \"metric\": null, \"status\": \"Completed\", \"run_type\": null, \"training_percent\": \"100\", \"start_time\": \"2022-05-15T12:48:38.370546Z\", \"end_time\": \"2022-05-15T12:49:10.149518Z\", \"created_time\": \"2022-05-15T12:48:38.257611Z\", \"created_time_dt\": \"2022-05-15T12:48:38.257611Z\", \"duration\": \"0:00:31\", \"iteration\": \"12\", \"goal\": \"accuracy_max\", \"run_name\": \"MaxAbsScaler, LogisticRegression\", \"run_properties\": \"copy=True\", \"primary_metric\": 0.90872534, \"best_metric\": 0.91415023}, {\"run_id\": \"AutoML_baa48f77-fb5d-4aec-8819-131a07270c28_13\", \"run_number\": 1652618951, \"metric\": null, \"status\": \"Completed\", \"run_type\": null, \"training_percent\": \"100\", \"start_time\": \"2022-05-15T12:49:11.599205Z\", \"end_time\": \"2022-05-15T12:49:38.374581Z\", \"created_time\": \"2022-05-15T12:49:11.492795Z\", \"created_time_dt\": \"2022-05-15T12:49:11.492795Z\", \"duration\": \"0:00:26\", \"iteration\": \"13\", \"goal\": \"accuracy_max\", \"run_name\": \"MaxAbsScaler, SGD\", \"run_properties\": \"copy=True\", \"primary_metric\": 0.85978756, \"best_metric\": 0.91415023}, {\"run_id\": \"AutoML_baa48f77-fb5d-4aec-8819-131a07270c28_14\", \"run_number\": 1652618979, \"metric\": null, \"status\": \"Completed\", \"run_type\": null, \"training_percent\": \"100\", \"start_time\": \"2022-05-15T12:49:39.841488Z\", \"end_time\": \"2022-05-15T12:50:11.498331Z\", \"created_time\": \"2022-05-15T12:49:39.728484Z\", \"created_time_dt\": \"2022-05-15T12:49:39.728484Z\", \"duration\": \"0:00:31\", \"iteration\": \"14\", \"goal\": \"accuracy_max\", \"run_name\": \"StandardScalerWrapper, XGBoostClassifier\", \"run_properties\": \"copy=True, with_mean=False, with_std=False\", \"primary_metric\": 0.91293627, \"best_metric\": 0.91415023}, {\"run_id\": \"AutoML_baa48f77-fb5d-4aec-8819-131a07270c28_15\", \"run_number\": 1652619012, \"metric\": null, \"status\": \"Completed\", \"run_type\": null, \"training_percent\": \"100\", \"start_time\": \"2022-05-15T12:50:12.851098Z\", \"end_time\": \"2022-05-15T12:51:01.025838Z\", \"created_time\": \"2022-05-15T12:50:12.726211Z\", \"created_time_dt\": \"2022-05-15T12:50:12.726211Z\", \"duration\": \"0:00:48\", \"iteration\": \"15\", \"goal\": \"accuracy_max\", \"run_name\": \"SparseNormalizer, RandomForest\", \"run_properties\": \"copy=True, norm='l2'\", \"primary_metric\": 0.81927162, \"best_metric\": 0.91415023}, {\"run_id\": \"AutoML_baa48f77-fb5d-4aec-8819-131a07270c28_16\", \"run_number\": 1652619062, \"metric\": null, \"status\": \"Completed\", \"run_type\": null, \"training_percent\": \"100\", \"start_time\": \"2022-05-15T12:51:02.317309Z\", \"end_time\": \"2022-05-15T12:51:31.541727Z\", \"created_time\": \"2022-05-15T12:51:02.223365Z\", \"created_time_dt\": \"2022-05-15T12:51:02.223365Z\", \"duration\": \"0:00:29\", \"iteration\": \"16\", \"goal\": \"accuracy_max\", \"run_name\": \"StandardScalerWrapper, LogisticRegression\", \"run_properties\": \"copy=True, with_mean=False, with_std=False\", \"primary_metric\": 0.90834598, \"best_metric\": 0.91415023}, {\"run_id\": \"AutoML_baa48f77-fb5d-4aec-8819-131a07270c28_17\", \"run_number\": 1652619092, \"metric\": null, \"status\": \"Completed\", \"run_type\": null, \"training_percent\": \"100\", \"start_time\": \"2022-05-15T12:51:32.949324Z\", \"end_time\": \"2022-05-15T12:52:08.119909Z\", \"created_time\": \"2022-05-15T12:51:32.841505Z\", \"created_time_dt\": \"2022-05-15T12:51:32.841505Z\", \"duration\": \"0:00:35\", \"iteration\": \"17\", \"goal\": \"accuracy_max\", \"run_name\": \"StandardScalerWrapper, RandomForest\", \"run_properties\": \"copy=True, with_mean=False, with_std=False\", \"primary_metric\": 0.90140364, \"best_metric\": 0.91415023}, {\"run_id\": \"AutoML_baa48f77-fb5d-4aec-8819-131a07270c28_18\", \"run_number\": 1652619129, \"metric\": null, \"status\": \"Completed\", \"run_type\": null, \"training_percent\": \"100\", \"start_time\": \"2022-05-15T12:52:09.84235Z\", \"end_time\": \"2022-05-15T12:52:42.971885Z\", \"created_time\": \"2022-05-15T12:52:09.738517Z\", \"created_time_dt\": \"2022-05-15T12:52:09.738517Z\", \"duration\": \"0:00:33\", \"iteration\": \"18\", \"goal\": \"accuracy_max\", \"run_name\": \"StandardScalerWrapper, XGBoostClassifier\", \"run_properties\": \"copy=True, with_mean=False, with_std=False\", \"primary_metric\": 0.91452959, \"best_metric\": 0.91452959}, {\"run_id\": \"AutoML_baa48f77-fb5d-4aec-8819-131a07270c28_19\", \"run_number\": 1652619164, \"metric\": null, \"status\": \"Completed\", \"run_type\": null, \"training_percent\": \"100\", \"start_time\": \"2022-05-15T12:52:44.576498Z\", \"end_time\": \"2022-05-15T12:55:42.647813Z\", \"created_time\": \"2022-05-15T12:52:44.481962Z\", \"created_time_dt\": \"2022-05-15T12:52:44.481962Z\", \"duration\": \"0:02:58\", \"iteration\": \"19\", \"goal\": \"accuracy_max\", \"run_name\": \"TruncatedSVDWrapper, RandomForest\", \"run_properties\": \"n_components=0.8015789473684211, random_state=None\", \"primary_metric\": 0.82048558, \"best_metric\": 0.91452959}, {\"run_id\": \"AutoML_baa48f77-fb5d-4aec-8819-131a07270c28_20\", \"run_number\": 1652619343, \"metric\": null, \"status\": \"Completed\", \"run_type\": null, \"training_percent\": \"100\", \"start_time\": \"2022-05-15T12:55:43.987665Z\", \"end_time\": \"2022-05-15T12:59:19.155331Z\", \"created_time\": \"2022-05-15T12:55:43.892567Z\", \"created_time_dt\": \"2022-05-15T12:55:43.892567Z\", \"duration\": \"0:03:35\", \"iteration\": \"20\", \"goal\": \"accuracy_max\", \"run_name\": \"TruncatedSVDWrapper, RandomForest\", \"run_properties\": \"n_components=0.7026315789473684, random_state=None\", \"primary_metric\": 0.83327011, \"best_metric\": 0.91452959}, {\"run_id\": \"AutoML_baa48f77-fb5d-4aec-8819-131a07270c28_21\", \"run_number\": 1652619560, \"metric\": null, \"status\": \"Completed\", \"run_type\": null, \"training_percent\": \"100\", \"start_time\": \"2022-05-15T12:59:20.511416Z\", \"end_time\": \"2022-05-15T12:59:51.29722Z\", \"created_time\": \"2022-05-15T12:59:20.414614Z\", \"created_time_dt\": \"2022-05-15T12:59:20.414614Z\", \"duration\": \"0:00:30\", \"iteration\": \"21\", \"goal\": \"accuracy_max\", \"run_name\": \"StandardScalerWrapper, XGBoostClassifier\", \"run_properties\": \"copy=True, with_mean=False, with_std=False\", \"primary_metric\": 0.91544006, \"best_metric\": 0.91544006}, {\"run_id\": \"AutoML_baa48f77-fb5d-4aec-8819-131a07270c28_22\", \"run_number\": 1652619592, \"metric\": null, \"status\": \"Completed\", \"run_type\": null, \"training_percent\": \"100\", \"start_time\": \"2022-05-15T12:59:52.544174Z\", \"end_time\": \"2022-05-15T13:00:27.614804Z\", \"created_time\": \"2022-05-15T12:59:52.45709Z\", \"created_time_dt\": \"2022-05-15T12:59:52.45709Z\", \"duration\": \"0:00:35\", \"iteration\": \"22\", \"goal\": \"accuracy_max\", \"run_name\": \"StandardScalerWrapper, LightGBM\", \"run_properties\": \"copy=True, with_mean=False, with_std=True\", \"primary_metric\": 0.91460546, \"best_metric\": 0.91544006}, {\"run_id\": \"AutoML_baa48f77-fb5d-4aec-8819-131a07270c28_23\", \"run_number\": 1652619628, \"metric\": null, \"status\": \"Completed\", \"run_type\": null, \"training_percent\": \"100\", \"start_time\": \"2022-05-15T13:00:28.910457Z\", \"end_time\": \"2022-05-15T13:00:56.250611Z\", \"created_time\": \"2022-05-15T13:00:28.818114Z\", \"created_time_dt\": \"2022-05-15T13:00:28.818114Z\", \"duration\": \"0:00:27\", \"iteration\": \"23\", \"goal\": \"accuracy_max\", \"run_name\": \"MaxAbsScaler, LightGBM\", \"run_properties\": \"copy=True\", \"primary_metric\": 0.88736722, \"best_metric\": 0.91544006}, {\"run_id\": \"AutoML_baa48f77-fb5d-4aec-8819-131a07270c28_24\", \"run_number\": 1652619657, \"metric\": null, \"status\": \"Completed\", \"run_type\": null, \"training_percent\": \"100\", \"start_time\": \"2022-05-15T13:00:57.598634Z\", \"end_time\": \"2022-05-15T13:01:59.272145Z\", \"created_time\": \"2022-05-15T13:00:57.511755Z\", \"created_time_dt\": \"2022-05-15T13:00:57.511755Z\", \"duration\": \"0:01:01\", \"iteration\": \"24\", \"goal\": \"accuracy_max\", \"run_name\": \"StandardScalerWrapper, XGBoostClassifier\", \"run_properties\": \"copy=True, with_mean=False, with_std=False\", \"primary_metric\": 0.91581942, \"best_metric\": 0.91581942}, {\"run_id\": \"AutoML_baa48f77-fb5d-4aec-8819-131a07270c28_25\", \"run_number\": 1652619721, \"metric\": null, \"status\": \"Completed\", \"run_type\": null, \"training_percent\": \"100\", \"start_time\": \"2022-05-15T13:02:01.618946Z\", \"end_time\": \"2022-05-15T13:02:29.782038Z\", \"created_time\": \"2022-05-15T13:02:01.491371Z\", \"created_time_dt\": \"2022-05-15T13:02:01.491371Z\", \"duration\": \"0:00:28\", \"iteration\": \"25\", \"goal\": \"accuracy_max\", \"run_name\": \"StandardScalerWrapper, XGBoostClassifier\", \"run_properties\": \"copy=True, with_mean=False, with_std=False\", \"primary_metric\": 0.88736722, \"best_metric\": 0.91581942}, {\"run_id\": \"AutoML_baa48f77-fb5d-4aec-8819-131a07270c28_26\", \"run_number\": 1652619751, \"metric\": null, \"status\": \"Completed\", \"run_type\": null, \"training_percent\": \"100\", \"start_time\": \"2022-05-15T13:02:31.126509Z\", \"end_time\": \"2022-05-15T13:02:59.644794Z\", \"created_time\": \"2022-05-15T13:02:30.996666Z\", \"created_time_dt\": \"2022-05-15T13:02:30.996666Z\", \"duration\": \"0:00:28\", \"iteration\": \"26\", \"goal\": \"accuracy_max\", \"run_name\": \"MaxAbsScaler, LightGBM\", \"run_properties\": \"copy=True\", \"primary_metric\": 0.91001517, \"best_metric\": 0.91581942}, {\"run_id\": \"AutoML_baa48f77-fb5d-4aec-8819-131a07270c28_27\", \"run_number\": 1652619780, \"metric\": null, \"status\": \"Completed\", \"run_type\": null, \"training_percent\": \"100\", \"start_time\": \"2022-05-15T13:03:00.999814Z\", \"end_time\": \"2022-05-15T13:04:09.819895Z\", \"created_time\": \"2022-05-15T13:03:00.920534Z\", \"created_time_dt\": \"2022-05-15T13:03:00.920534Z\", \"duration\": \"0:01:08\", \"iteration\": \"27\", \"goal\": \"accuracy_max\", \"run_name\": \"StandardScalerWrapper, XGBoostClassifier\", \"run_properties\": \"copy=True, with_mean=False, with_std=False\", \"primary_metric\": 0.909522, \"best_metric\": 0.91581942}, {\"run_id\": \"AutoML_baa48f77-fb5d-4aec-8819-131a07270c28_28\", \"run_number\": 1652619852, \"metric\": null, \"status\": \"Completed\", \"run_type\": null, \"training_percent\": \"100\", \"start_time\": \"2022-05-15T13:04:12.340682Z\", \"end_time\": \"2022-05-15T13:04:41.226845Z\", \"created_time\": \"2022-05-15T13:04:12.2437Z\", \"created_time_dt\": \"2022-05-15T13:04:12.2437Z\", \"duration\": \"0:00:28\", \"iteration\": \"28\", \"goal\": \"accuracy_max\", \"run_name\": \"StandardScalerWrapper, LightGBM\", \"run_properties\": \"copy=True, with_mean=False, with_std=False\", \"primary_metric\": 0.90990137, \"best_metric\": 0.91581942}, {\"run_id\": \"AutoML_baa48f77-fb5d-4aec-8819-131a07270c28_29\", \"run_number\": 1652619882, \"metric\": null, \"status\": \"Completed\", \"run_type\": null, \"training_percent\": \"100\", \"start_time\": \"2022-05-15T13:04:42.464918Z\", \"end_time\": \"2022-05-15T13:06:13.800644Z\", \"created_time\": \"2022-05-15T13:04:42.326177Z\", \"created_time_dt\": \"2022-05-15T13:04:42.326177Z\", \"duration\": \"0:01:31\", \"iteration\": \"29\", \"goal\": \"accuracy_max\", \"run_name\": \"StandardScalerWrapper, ExtremeRandomTrees\", \"run_properties\": \"copy=True, with_mean=False, with_std=True\", \"primary_metric\": 0.88736722, \"best_metric\": 0.91581942}, {\"run_id\": \"AutoML_baa48f77-fb5d-4aec-8819-131a07270c28_30\", \"run_number\": 1652619976, \"metric\": null, \"status\": \"Completed\", \"run_type\": null, \"training_percent\": \"100\", \"start_time\": \"2022-05-15T13:06:16.190674Z\", \"end_time\": \"2022-05-15T13:06:55.635652Z\", \"created_time\": \"2022-05-15T13:06:16.040486Z\", \"created_time_dt\": \"2022-05-15T13:06:16.040486Z\", \"duration\": \"0:00:39\", \"iteration\": \"30\", \"goal\": \"accuracy_max\", \"run_name\": \"SparseNormalizer, XGBoostClassifier\", \"run_properties\": \"copy=True, norm='l1'\", \"primary_metric\": 0.90667678, \"best_metric\": 0.91581942}, {\"run_id\": \"AutoML_baa48f77-fb5d-4aec-8819-131a07270c28_31\", \"run_number\": 1652620016, \"metric\": null, \"status\": \"Completed\", \"run_type\": null, \"training_percent\": \"100\", \"start_time\": \"2022-05-15T13:06:56.995194Z\", \"end_time\": \"2022-05-15T13:08:27.213448Z\", \"created_time\": \"2022-05-15T13:06:56.913076Z\", \"created_time_dt\": \"2022-05-15T13:06:56.913076Z\", \"duration\": \"0:01:30\", \"iteration\": \"31\", \"goal\": \"accuracy_max\", \"run_name\": \"StandardScalerWrapper, XGBoostClassifier\", \"run_properties\": \"copy=True, with_mean=False, with_std=False\", \"primary_metric\": 0.90849772, \"best_metric\": 0.91581942}, {\"run_id\": \"AutoML_baa48f77-fb5d-4aec-8819-131a07270c28_32\", \"run_number\": 1652620108, \"metric\": null, \"status\": \"Completed\", \"run_type\": null, \"training_percent\": \"100\", \"start_time\": \"2022-05-15T13:08:28.406797Z\", \"end_time\": \"2022-05-15T13:08:55.317391Z\", \"created_time\": \"2022-05-15T13:08:28.312222Z\", \"created_time_dt\": \"2022-05-15T13:08:28.312222Z\", \"duration\": \"0:00:27\", \"iteration\": \"32\", \"goal\": \"accuracy_max\", \"run_name\": \"MaxAbsScaler, LightGBM\", \"run_properties\": \"copy=True\", \"primary_metric\": 0.88736722, \"best_metric\": 0.91581942}, {\"run_id\": \"AutoML_baa48f77-fb5d-4aec-8819-131a07270c28_33\", \"run_number\": 1652620136, \"metric\": null, \"status\": \"Completed\", \"run_type\": null, \"training_percent\": \"100\", \"start_time\": \"2022-05-15T13:08:56.566284Z\", \"end_time\": \"2022-05-15T13:09:27.775627Z\", \"created_time\": \"2022-05-15T13:08:56.470308Z\", \"created_time_dt\": \"2022-05-15T13:08:56.470308Z\", \"duration\": \"0:00:31\", \"iteration\": \"33\", \"goal\": \"accuracy_max\", \"run_name\": \"MaxAbsScaler, LightGBM\", \"run_properties\": \"copy=True\", \"primary_metric\": 0.91126707, \"best_metric\": 0.91581942}, {\"run_id\": \"AutoML_baa48f77-fb5d-4aec-8819-131a07270c28_34\", \"run_number\": 1652620169, \"metric\": null, \"status\": \"Completed\", \"run_type\": null, \"training_percent\": \"100\", \"start_time\": \"2022-05-15T13:09:29.192451Z\", \"end_time\": \"2022-05-15T13:11:14.01472Z\", \"created_time\": \"2022-05-15T13:09:29.061816Z\", \"created_time_dt\": \"2022-05-15T13:09:29.061816Z\", \"duration\": \"0:01:44\", \"iteration\": \"34\", \"goal\": \"accuracy_max\", \"run_name\": \"StandardScalerWrapper, XGBoostClassifier\", \"run_properties\": \"copy=True, with_mean=False, with_std=False\", \"primary_metric\": 0.91566768, \"best_metric\": 0.91581942}, {\"run_id\": \"AutoML_baa48f77-fb5d-4aec-8819-131a07270c28_35\", \"run_number\": 1652620274, \"metric\": null, \"status\": \"Completed\", \"run_type\": null, \"training_percent\": \"100\", \"start_time\": \"2022-05-15T13:11:14.35604Z\", \"end_time\": \"2022-05-15T13:12:03.379172Z\", \"created_time\": \"2022-05-15T13:11:14.26831Z\", \"created_time_dt\": \"2022-05-15T13:11:14.26831Z\", \"duration\": \"0:00:49\", \"iteration\": \"35\", \"goal\": \"accuracy_max\", \"run_name\": \"VotingEnsemble\", \"run_properties\": \"classification_labels=array([0, 1]\", \"primary_metric\": 0.91760243, \"best_metric\": 0.91760243}, {\"run_id\": \"AutoML_baa48f77-fb5d-4aec-8819-131a07270c28_36\", \"run_number\": 1652620323, \"metric\": null, \"status\": \"Completed\", \"run_type\": null, \"training_percent\": \"100\", \"start_time\": \"2022-05-15T13:12:03.68022Z\", \"end_time\": \"2022-05-15T13:13:03.842891Z\", \"created_time\": \"2022-05-15T13:12:03.587209Z\", \"created_time_dt\": \"2022-05-15T13:12:03.587209Z\", \"duration\": \"0:01:00\", \"iteration\": \"36\", \"goal\": \"accuracy_max\", \"run_name\": \"StackEnsemble\", \"run_properties\": \"base_learners=[('24', Pipeline(memory=None, steps=[('standardscalerwrapper', StandardScalerWrapper(copy=True, with_mean=False, with_std=False\", \"primary_metric\": 0.91745068, \"best_metric\": 0.91760243}], \"children_metrics\": {\"categories\": [0], \"series\": {\"f1_score_macro\": [{\"categories\": [\"0\", \"1\", \"2\", \"3\", \"4\", \"5\", \"6\", \"7\", \"8\", \"9\", \"10\", \"11\", \"12\", \"13\", \"14\", \"15\", \"16\", \"17\", \"18\", \"19\", \"20\", \"21\", \"22\", \"23\", \"24\", \"25\", \"26\", \"27\", \"28\", \"29\", \"30\", \"31\", \"32\", \"33\", \"34\", \"35\", \"36\"], \"mode\": \"markers\", \"name\": \"f1_score_macro\", \"stepped\": false, \"type\": \"scatter\", \"data\": [0.7714495252659146, 0.7705588370454176, 0.5972794312625591, 0.7674817409454331, 0.7312862394881494, 0.4749527596875892, 0.721324967814778, 0.7230445840807174, 0.47324762385570446, 0.7411299460725841, 0.6633242724193875, 0.7431834746010169, 0.7277741424696644, 0.7483084529865748, 0.7675997650843753, 0.7134793081741169, 0.7249617964563967, 0.6122613747516068, 0.752557397772273, 0.7133449688677607, 0.7279147545459598, 0.7591624317598307, 0.7633281980913955, 0.47016084924323476, 0.7743125190600486, 0.47016084924323476, 0.7523882861093671, 0.7256645386373485, 0.7325310265429364, 0.47016084924323476, 0.7504392786664372, 0.7593324330310907, 0.47016084924323476, 0.7545128709250235, 0.7714809199256161, 0.7718754808221746, 0.771727259298121]}, {\"categories\": [\"0\", \"1\", \"2\", \"3\", \"4\", \"5\", \"6\", \"7\", \"8\", \"9\", \"10\", \"11\", \"12\", \"13\", \"14\", \"15\", \"16\", \"17\", \"18\", \"19\", \"20\", \"21\", \"22\", \"23\", \"24\", \"25\", \"26\", \"27\", \"28\", \"29\", \"30\", \"31\", \"32\", \"33\", \"34\", \"35\", \"36\"], \"mode\": \"lines\", \"name\": \"f1_score_macro_max\", \"stepped\": true, \"type\": \"scatter\", \"data\": [0.7714495252659146, 0.7714495252659146, 0.7714495252659146, 0.7714495252659146, 0.7714495252659146, 0.7714495252659146, 0.7714495252659146, 0.7714495252659146, 0.7714495252659146, 0.7714495252659146, 0.7714495252659146, 0.7714495252659146, 0.7714495252659146, 0.7714495252659146, 0.7714495252659146, 0.7714495252659146, 0.7714495252659146, 0.7714495252659146, 0.7714495252659146, 0.7714495252659146, 0.7714495252659146, 0.7714495252659146, 0.7714495252659146, 0.7714495252659146, 0.7743125190600486, 0.7743125190600486, 0.7743125190600486, 0.7743125190600486, 0.7743125190600486, 0.7743125190600486, 0.7743125190600486, 0.7743125190600486, 0.7743125190600486, 0.7743125190600486, 0.7743125190600486, 0.7743125190600486, 0.7743125190600486]}], \"precision_score_micro\": [{\"categories\": [\"0\", \"1\", \"2\", \"3\", \"4\", \"5\", \"6\", \"7\", \"8\", \"9\", \"10\", \"11\", \"12\", \"13\", \"14\", \"15\", \"16\", \"17\", \"18\", \"19\", \"20\", \"21\", \"22\", \"23\", \"24\", \"25\", \"26\", \"27\", \"28\", \"29\", \"30\", \"31\", \"32\", \"33\", \"34\", \"35\", \"36\"], \"mode\": \"markers\", \"name\": \"precision_score_micro\", \"stepped\": false, \"type\": \"scatter\", \"data\": [0.9141502276176026, 0.9138088012139607, 0.7275417298937784, 0.9133156297420333, 0.912443095599393, 0.8877845220030348, 0.9092564491654022, 0.908421851289833, 0.8876707132018209, 0.9127086494688923, 0.904628224582701, 0.9138467374810318, 0.9087253414264037, 0.8597875569044007, 0.9129362670713201, 0.8192716236722306, 0.9083459787556905, 0.9014036418816389, 0.9145295902883156, 0.8204855842185129, 0.8332701062215477, 0.9154400606980273, 0.9146054628224582, 0.8873672230652504, 0.9158194233687406, 0.8873672230652504, 0.9100151745068285, 0.9095220030349014, 0.9099013657056145, 0.8873672230652504, 0.9066767830045525, 0.9084977238239758, 0.8873672230652504, 0.911267071320182, 0.9156676783004553, 0.9176024279210925, 0.9174506828528072]}, {\"categories\": [\"0\", \"1\", \"2\", \"3\", \"4\", \"5\", \"6\", \"7\", \"8\", \"9\", \"10\", \"11\", \"12\", \"13\", \"14\", \"15\", \"16\", \"17\", \"18\", \"19\", \"20\", \"21\", \"22\", \"23\", \"24\", \"25\", \"26\", \"27\", \"28\", \"29\", \"30\", \"31\", \"32\", \"33\", \"34\", \"35\", \"36\"], \"mode\": \"lines\", \"name\": \"precision_score_micro_max\", \"stepped\": true, \"type\": \"scatter\", \"data\": [0.9141502276176026, 0.9141502276176026, 0.9141502276176026, 0.9141502276176026, 0.9141502276176026, 0.9141502276176026, 0.9141502276176026, 0.9141502276176026, 0.9141502276176026, 0.9141502276176026, 0.9141502276176026, 0.9141502276176026, 0.9141502276176026, 0.9141502276176026, 0.9141502276176026, 0.9141502276176026, 0.9141502276176026, 0.9141502276176026, 0.9145295902883156, 0.9145295902883156, 0.9145295902883156, 0.9154400606980273, 0.9154400606980273, 0.9154400606980273, 0.9158194233687406, 0.9158194233687406, 0.9158194233687406, 0.9158194233687406, 0.9158194233687406, 0.9158194233687406, 0.9158194233687406, 0.9158194233687406, 0.9158194233687406, 0.9158194233687406, 0.9158194233687406, 0.9176024279210925, 0.9176024279210925]}], \"recall_score_weighted\": [{\"categories\": [\"0\", \"1\", \"2\", \"3\", \"4\", \"5\", \"6\", \"7\", \"8\", \"9\", \"10\", \"11\", \"12\", \"13\", \"14\", \"15\", \"16\", \"17\", \"18\", \"19\", \"20\", \"21\", \"22\", \"23\", \"24\", \"25\", \"26\", \"27\", \"28\", \"29\", \"30\", \"31\", \"32\", \"33\", \"34\", \"35\", \"36\"], \"mode\": \"markers\", \"name\": \"recall_score_weighted\", \"stepped\": false, \"type\": \"scatter\", \"data\": [0.9141502276176026, 0.9138088012139607, 0.7275417298937784, 0.9133156297420333, 0.912443095599393, 0.8877845220030348, 0.9092564491654022, 0.908421851289833, 0.8876707132018209, 0.9127086494688923, 0.904628224582701, 0.9138467374810318, 0.9087253414264037, 0.8597875569044007, 0.9129362670713201, 0.8192716236722306, 0.9083459787556905, 0.9014036418816389, 0.9145295902883156, 0.8204855842185129, 0.8332701062215477, 0.9154400606980273, 0.9146054628224582, 0.8873672230652504, 0.9158194233687406, 0.8873672230652504, 0.9100151745068285, 0.9095220030349014, 0.9099013657056145, 0.8873672230652504, 0.9066767830045525, 0.9084977238239758, 0.8873672230652504, 0.911267071320182, 0.9156676783004553, 0.9176024279210925, 0.9174506828528072]}, {\"categories\": [\"0\", \"1\", \"2\", \"3\", \"4\", \"5\", \"6\", \"7\", \"8\", \"9\", \"10\", \"11\", \"12\", \"13\", \"14\", \"15\", \"16\", \"17\", \"18\", \"19\", \"20\", \"21\", \"22\", \"23\", \"24\", \"25\", \"26\", \"27\", \"28\", \"29\", \"30\", \"31\", \"32\", \"33\", \"34\", \"35\", \"36\"], \"mode\": \"lines\", \"name\": \"recall_score_weighted_max\", \"stepped\": true, \"type\": \"scatter\", \"data\": [0.9141502276176026, 0.9141502276176026, 0.9141502276176026, 0.9141502276176026, 0.9141502276176026, 0.9141502276176026, 0.9141502276176026, 0.9141502276176026, 0.9141502276176026, 0.9141502276176026, 0.9141502276176026, 0.9141502276176026, 0.9141502276176026, 0.9141502276176026, 0.9141502276176026, 0.9141502276176026, 0.9141502276176026, 0.9141502276176026, 0.9145295902883156, 0.9145295902883156, 0.9145295902883156, 0.9154400606980273, 0.9154400606980273, 0.9154400606980273, 0.9158194233687406, 0.9158194233687406, 0.9158194233687406, 0.9158194233687406, 0.9158194233687406, 0.9158194233687406, 0.9158194233687406, 0.9158194233687406, 0.9158194233687406, 0.9158194233687406, 0.9158194233687406, 0.9176024279210925, 0.9176024279210925]}], \"matthews_correlation\": [{\"categories\": [\"0\", \"1\", \"2\", \"3\", \"4\", \"5\", \"6\", \"7\", \"8\", \"9\", \"10\", \"11\", \"12\", \"13\", \"14\", \"15\", \"16\", \"17\", \"18\", \"19\", \"20\", \"21\", \"22\", \"23\", \"24\", \"25\", \"26\", \"27\", \"28\", \"29\", \"30\", \"31\", \"32\", \"33\", \"34\", \"35\", \"36\"], \"mode\": \"markers\", \"name\": \"matthews_correlation\", \"stepped\": false, \"type\": \"scatter\", \"data\": [0.5451108742374451, 0.5433763495377277, 0.2954018591711972, 0.5377395264185045, 0.4858717206044341, 0.05821784193103534, 0.46552893052956534, 0.46525626309256946, 0.029907652977095873, 0.49832868066972935, 0.39139591420070774, 0.5036867527645754, 0.4720102454441749, 0.5491661164462022, 0.5376587015371331, 0.5236517117346391, 0.4677882109030711, 0.33658869772205857, 0.5171867149809266, 0.5199194896945745, 0.5420930119428016, 0.5279476566004898, 0.5325659970158462, 0.0, 0.5514440518928825, 0.0, 0.509820230301089, 0.47136613879329825, 0.481118240072374, 0.0, 0.5034170255160864, 0.5201902142603057, 0.0, 0.5148771037547788, 0.5465689982622933, 0.5496225675850488, 0.5492796759386606]}, {\"categories\": [\"0\", \"1\", \"2\", \"3\", \"4\", \"5\", \"6\", \"7\", \"8\", \"9\", \"10\", \"11\", \"12\", \"13\", \"14\", \"15\", \"16\", \"17\", \"18\", \"19\", \"20\", \"21\", \"22\", \"23\", \"24\", \"25\", \"26\", \"27\", \"28\", \"29\", \"30\", \"31\", \"32\", \"33\", \"34\", \"35\", \"36\"], \"mode\": \"lines\", \"name\": \"matthews_correlation_max\", \"stepped\": true, \"type\": \"scatter\", \"data\": [0.5451108742374451, 0.5451108742374451, 0.5451108742374451, 0.5451108742374451, 0.5451108742374451, 0.5451108742374451, 0.5451108742374451, 0.5451108742374451, 0.5451108742374451, 0.5451108742374451, 0.5451108742374451, 0.5451108742374451, 0.5451108742374451, 0.5491661164462022, 0.5491661164462022, 0.5491661164462022, 0.5491661164462022, 0.5491661164462022, 0.5491661164462022, 0.5491661164462022, 0.5491661164462022, 0.5491661164462022, 0.5491661164462022, 0.5491661164462022, 0.5514440518928825, 0.5514440518928825, 0.5514440518928825, 0.5514440518928825, 0.5514440518928825, 0.5514440518928825, 0.5514440518928825, 0.5514440518928825, 0.5514440518928825, 0.5514440518928825, 0.5514440518928825, 0.5514440518928825, 0.5514440518928825]}], \"average_precision_score_weighted\": [{\"categories\": [\"0\", \"1\", \"2\", \"3\", \"4\", \"5\", \"6\", \"7\", \"8\", \"9\", \"10\", \"11\", \"12\", \"13\", \"14\", \"15\", \"16\", \"17\", \"18\", \"19\", \"20\", \"21\", \"22\", \"23\", \"24\", \"25\", \"26\", \"27\", \"28\", \"29\", \"30\", \"31\", \"32\", \"33\", \"34\", \"35\", \"36\"], \"mode\": \"markers\", \"name\": \"average_precision_score_weighted\", \"stepped\": false, \"type\": \"scatter\", \"data\": [0.9554166481927503, 0.9538101230910241, 0.9108133020369602, 0.9497478396313888, 0.9553941944130611, 0.9526152415347543, 0.9480799050171933, 0.9453013547203151, 0.9103463177930395, 0.9538644389817484, 0.9484860688585801, 0.9550697916820681, 0.945277180993725, 0.9426695312524529, 0.9513185243610662, 0.9492513409128431, 0.9437259620244396, 0.9436214076101346, 0.9541004860272011, 0.9377410934899946, 0.9457327829404324, 0.9554850582383786, 0.9550479438163777, 0.9475626527750732, 0.9561858723959368, 0.800114197374511, 0.9509365121017745, 0.9491788615323655, 0.9507807110395031, 0.923299911796757, 0.9472109526595531, 0.9489127476973369, 0.9325506087985259, 0.9515638913324004, 0.9542899442866286, 0.9564929934904229, 0.9565272625959225]}, {\"categories\": [\"0\", \"1\", \"2\", \"3\", \"4\", \"5\", \"6\", \"7\", \"8\", \"9\", \"10\", \"11\", \"12\", \"13\", \"14\", \"15\", \"16\", \"17\", \"18\", \"19\", \"20\", \"21\", \"22\", \"23\", \"24\", \"25\", \"26\", \"27\", \"28\", \"29\", \"30\", \"31\", \"32\", \"33\", \"34\", \"35\", \"36\"], \"mode\": \"lines\", \"name\": \"average_precision_score_weighted_max\", \"stepped\": true, \"type\": \"scatter\", \"data\": [0.9554166481927503, 0.9554166481927503, 0.9554166481927503, 0.9554166481927503, 0.9554166481927503, 0.9554166481927503, 0.9554166481927503, 0.9554166481927503, 0.9554166481927503, 0.9554166481927503, 0.9554166481927503, 0.9554166481927503, 0.9554166481927503, 0.9554166481927503, 0.9554166481927503, 0.9554166481927503, 0.9554166481927503, 0.9554166481927503, 0.9554166481927503, 0.9554166481927503, 0.9554166481927503, 0.9554850582383786, 0.9554850582383786, 0.9554850582383786, 0.9561858723959368, 0.9561858723959368, 0.9561858723959368, 0.9561858723959368, 0.9561858723959368, 0.9561858723959368, 0.9561858723959368, 0.9561858723959368, 0.9561858723959368, 0.9561858723959368, 0.9561858723959368, 0.9564929934904229, 0.9565272625959225]}], \"weighted_accuracy\": [{\"categories\": [\"0\", \"1\", \"2\", \"3\", \"4\", \"5\", \"6\", \"7\", \"8\", \"9\", \"10\", \"11\", \"12\", \"13\", \"14\", \"15\", \"16\", \"17\", \"18\", \"19\", \"20\", \"21\", \"22\", \"23\", \"24\", \"25\", \"26\", \"27\", \"28\", \"29\", \"30\", \"31\", \"32\", \"33\", \"34\", \"35\", \"36\"], \"mode\": \"markers\", \"name\": \"weighted_accuracy\", \"stepped\": false, \"type\": \"scatter\", \"data\": [0.9537524340997068, 0.9534161949661438, 0.7300911689065184, 0.9540775911672272, 0.967618051680188, 0.9840862341484776, 0.9657650629464584, 0.9636740385925527, 0.9841434005812513, 0.9644569559659318, 0.9751450427277278, 0.965683616358769, 0.9624683327972241, 0.8601646244631203, 0.9532869494354644, 0.8061686222940541, 0.9629239231142682, 0.9813454133820534, 0.963132119207539, 0.808727350470639, 0.8219864604769601, 0.9619069360316879, 0.9584497576548644, 0.9841376873068495, 0.9555329863666078, 0.9841376873068495, 0.9548971763981731, 0.9646367318079638, 0.9628134914886907, 0.9841376873068495, 0.9494706190535872, 0.9488060943083099, 0.9841376873068495, 0.9562111590625217, 0.9567207839097979, 0.9603002351672952, 0.9600582452353569]}, {\"categories\": [\"0\", \"1\", \"2\", \"3\", \"4\", \"5\", \"6\", \"7\", \"8\", \"9\", \"10\", \"11\", \"12\", \"13\", \"14\", \"15\", \"16\", \"17\", \"18\", \"19\", \"20\", \"21\", \"22\", \"23\", \"24\", \"25\", \"26\", \"27\", \"28\", \"29\", \"30\", \"31\", \"32\", \"33\", \"34\", \"35\", \"36\"], \"mode\": \"lines\", \"name\": \"weighted_accuracy_max\", \"stepped\": true, \"type\": \"scatter\", \"data\": [0.9537524340997068, 0.9537524340997068, 0.9537524340997068, 0.9540775911672272, 0.967618051680188, 0.9840862341484776, 0.9840862341484776, 0.9840862341484776, 0.9841434005812513, 0.9841434005812513, 0.9841434005812513, 0.9841434005812513, 0.9841434005812513, 0.9841434005812513, 0.9841434005812513, 0.9841434005812513, 0.9841434005812513, 0.9841434005812513, 0.9841434005812513, 0.9841434005812513, 0.9841434005812513, 0.9841434005812513, 0.9841434005812513, 0.9841434005812513, 0.9841434005812513, 0.9841434005812513, 0.9841434005812513, 0.9841434005812513, 0.9841434005812513, 0.9841434005812513, 0.9841434005812513, 0.9841434005812513, 0.9841434005812513, 0.9841434005812513, 0.9841434005812513, 0.9841434005812513, 0.9841434005812513]}], \"average_precision_score_micro\": [{\"categories\": [\"0\", \"1\", \"2\", \"3\", \"4\", \"5\", \"6\", \"7\", \"8\", \"9\", \"10\", \"11\", \"12\", \"13\", \"14\", \"15\", \"16\", \"17\", \"18\", \"19\", \"20\", \"21\", \"22\", \"23\", \"24\", \"25\", \"26\", \"27\", \"28\", \"29\", \"30\", \"31\", \"32\", \"33\", \"34\", \"35\", \"36\"], \"mode\": \"markers\", \"name\": \"average_precision_score_micro\", \"stepped\": false, \"type\": \"scatter\", \"data\": [0.9816110696539132, 0.9806547902184264, 0.8084343651997508, 0.9767189299740127, 0.9809038345125245, 0.9764483892287755, 0.977096645644869, 0.9721831823678437, 0.9495339028969794, 0.9802665306175815, 0.9770115112091722, 0.9807960816247878, 0.9718668509038885, 0.9040512052289656, 0.979951158623343, 0.9264541409902733, 0.9704839797487346, 0.9740708253021003, 0.9805571662507946, 0.9043900738218931, 0.927289540101053, 0.981460300732525, 0.9812017189195966, 0.974784285861215, 0.9819534737895108, 0.8437407102198806, 0.9788878650698735, 0.9775029140911486, 0.9786929594037959, 0.9615084539416239, 0.9774765829931823, 0.9780501542010823, 0.9689615015265716, 0.9791841866180666, 0.9804234084869924, 0.9818704711505223, 0.9819311632800872]}, {\"categories\": [\"0\", \"1\", \"2\", \"3\", \"4\", \"5\", \"6\", \"7\", \"8\", \"9\", \"10\", \"11\", \"12\", \"13\", \"14\", \"15\", \"16\", \"17\", \"18\", \"19\", \"20\", \"21\", \"22\", \"23\", \"24\", \"25\", \"26\", \"27\", \"28\", \"29\", \"30\", \"31\", \"32\", \"33\", \"34\", \"35\", \"36\"], \"mode\": \"lines\", \"name\": \"average_precision_score_micro_max\", \"stepped\": true, \"type\": \"scatter\", \"data\": [0.9816110696539132, 0.9816110696539132, 0.9816110696539132, 0.9816110696539132, 0.9816110696539132, 0.9816110696539132, 0.9816110696539132, 0.9816110696539132, 0.9816110696539132, 0.9816110696539132, 0.9816110696539132, 0.9816110696539132, 0.9816110696539132, 0.9816110696539132, 0.9816110696539132, 0.9816110696539132, 0.9816110696539132, 0.9816110696539132, 0.9816110696539132, 0.9816110696539132, 0.9816110696539132, 0.9816110696539132, 0.9816110696539132, 0.9816110696539132, 0.9819534737895108, 0.9819534737895108, 0.9819534737895108, 0.9819534737895108, 0.9819534737895108, 0.9819534737895108, 0.9819534737895108, 0.9819534737895108, 0.9819534737895108, 0.9819534737895108, 0.9819534737895108, 0.9819534737895108, 0.9819534737895108]}], \"f1_score_micro\": [{\"categories\": [\"0\", \"1\", \"2\", \"3\", \"4\", \"5\", \"6\", \"7\", \"8\", \"9\", \"10\", \"11\", \"12\", \"13\", \"14\", \"15\", \"16\", \"17\", \"18\", \"19\", \"20\", \"21\", \"22\", \"23\", \"24\", \"25\", \"26\", \"27\", \"28\", \"29\", \"30\", \"31\", \"32\", \"33\", \"34\", \"35\", \"36\"], \"mode\": \"markers\", \"name\": \"f1_score_micro\", \"stepped\": false, \"type\": \"scatter\", \"data\": [0.9141502276176026, 0.9138088012139607, 0.7275417298937784, 0.9133156297420333, 0.912443095599393, 0.8877845220030348, 0.9092564491654022, 0.908421851289833, 0.8876707132018209, 0.9127086494688923, 0.904628224582701, 0.9138467374810318, 0.9087253414264037, 0.8597875569044007, 0.9129362670713201, 0.8192716236722306, 0.9083459787556905, 0.9014036418816389, 0.9145295902883156, 0.8204855842185129, 0.8332701062215477, 0.9154400606980275, 0.9146054628224582, 0.8873672230652504, 0.9158194233687406, 0.8873672230652504, 0.9100151745068285, 0.9095220030349014, 0.9099013657056145, 0.8873672230652504, 0.9066767830045525, 0.9084977238239758, 0.8873672230652504, 0.911267071320182, 0.9156676783004553, 0.9176024279210925, 0.9174506828528072]}, {\"categories\": [\"0\", \"1\", \"2\", \"3\", \"4\", \"5\", \"6\", \"7\", \"8\", \"9\", \"10\", \"11\", \"12\", \"13\", \"14\", \"15\", \"16\", \"17\", \"18\", \"19\", \"20\", \"21\", \"22\", \"23\", \"24\", \"25\", \"26\", \"27\", \"28\", \"29\", \"30\", \"31\", \"32\", \"33\", \"34\", \"35\", \"36\"], \"mode\": \"lines\", \"name\": \"f1_score_micro_max\", \"stepped\": true, \"type\": \"scatter\", \"data\": [0.9141502276176026, 0.9141502276176026, 0.9141502276176026, 0.9141502276176026, 0.9141502276176026, 0.9141502276176026, 0.9141502276176026, 0.9141502276176026, 0.9141502276176026, 0.9141502276176026, 0.9141502276176026, 0.9141502276176026, 0.9141502276176026, 0.9141502276176026, 0.9141502276176026, 0.9141502276176026, 0.9141502276176026, 0.9141502276176026, 0.9145295902883156, 0.9145295902883156, 0.9145295902883156, 0.9154400606980275, 0.9154400606980275, 0.9154400606980275, 0.9158194233687406, 0.9158194233687406, 0.9158194233687406, 0.9158194233687406, 0.9158194233687406, 0.9158194233687406, 0.9158194233687406, 0.9158194233687406, 0.9158194233687406, 0.9158194233687406, 0.9158194233687406, 0.9176024279210925, 0.9176024279210925]}], \"AUC_micro\": [{\"categories\": [\"0\", \"1\", \"2\", \"3\", \"4\", \"5\", \"6\", \"7\", \"8\", \"9\", \"10\", \"11\", \"12\", \"13\", \"14\", \"15\", \"16\", \"17\", \"18\", \"19\", \"20\", \"21\", \"22\", \"23\", \"24\", \"25\", \"26\", \"27\", \"28\", \"29\", \"30\", \"31\", \"32\", \"33\", \"34\", \"35\", \"36\"], \"mode\": \"markers\", \"name\": \"AUC_micro\", \"stepped\": false, \"type\": \"scatter\", \"data\": [0.9807827334145403, 0.9797767135506733, 0.8338442088762804, 0.9776944104162973, 0.980103370571128, 0.9754379293015353, 0.9765671952606721, 0.9740647328572974, 0.9527426366799375, 0.9795612604511825, 0.9762505080236069, 0.9800861546153298, 0.9739293222590902, 0.9194674502223215, 0.9792299297574611, 0.9212367611638547, 0.9731660203877214, 0.9729561332409199, 0.9799080765103702, 0.9010066351049207, 0.9235858594435399, 0.9807370940416458, 0.9803800491502045, 0.9738186796106667, 0.9811509785714779, 0.8873672230652504, 0.978013313960316, 0.9771318462297451, 0.9777858690571313, 0.9601118644955685, 0.9764830799355717, 0.9770787951810004, 0.969230866650855, 0.9783342683078468, 0.9798646930213387, 0.9811659242518094, 0.9812216773241289]}, {\"categories\": [\"0\", \"1\", \"2\", \"3\", \"4\", \"5\", \"6\", \"7\", \"8\", \"9\", \"10\", \"11\", \"12\", \"13\", \"14\", \"15\", \"16\", \"17\", \"18\", \"19\", \"20\", \"21\", \"22\", \"23\", \"24\", \"25\", \"26\", \"27\", \"28\", \"29\", \"30\", \"31\", \"32\", \"33\", \"34\", \"35\", \"36\"], \"mode\": \"lines\", \"name\": \"AUC_micro_max\", \"stepped\": true, \"type\": \"scatter\", \"data\": [0.9807827334145403, 0.9807827334145403, 0.9807827334145403, 0.9807827334145403, 0.9807827334145403, 0.9807827334145403, 0.9807827334145403, 0.9807827334145403, 0.9807827334145403, 0.9807827334145403, 0.9807827334145403, 0.9807827334145403, 0.9807827334145403, 0.9807827334145403, 0.9807827334145403, 0.9807827334145403, 0.9807827334145403, 0.9807827334145403, 0.9807827334145403, 0.9807827334145403, 0.9807827334145403, 0.9807827334145403, 0.9807827334145403, 0.9807827334145403, 0.9811509785714779, 0.9811509785714779, 0.9811509785714779, 0.9811509785714779, 0.9811509785714779, 0.9811509785714779, 0.9811509785714779, 0.9811509785714779, 0.9811509785714779, 0.9811509785714779, 0.9811509785714779, 0.9811659242518094, 0.9812216773241289]}], \"recall_score_macro\": [{\"categories\": [\"0\", \"1\", \"2\", \"3\", \"4\", \"5\", \"6\", \"7\", \"8\", \"9\", \"10\", \"11\", \"12\", \"13\", \"14\", \"15\", \"16\", \"17\", \"18\", \"19\", \"20\", \"21\", \"22\", \"23\", \"24\", \"25\", \"26\", \"27\", \"28\", \"29\", \"30\", \"31\", \"32\", \"33\", \"34\", \"35\", \"36\"], \"mode\": \"markers\", \"name\": \"recall_score_macro\", \"stepped\": false, \"type\": \"scatter\", \"data\": [0.7554891399015198, 0.7550243194193432, 0.7174874298407792, 0.750000660817199, 0.6914328514022535, 0.5022966785847899, 0.6831413145613767, 0.6871208320660135, 0.5015015429002154, 0.7055448847867399, 0.6223752746922294, 0.7062328128405825, 0.6934275211219018, 0.8580031575675224, 0.7512843066179589, 0.8716444043074045, 0.6899134993859671, 0.5813208006823236, 0.7200480718308929, 0.867574739714264, 0.8784115000250214, 0.7292362896615217, 0.7389082366958195, 0.5, 0.7566414820043407, 0.5, 0.7302760576612831, 0.6887610737613874, 0.6980373177985464, 0.5, 0.7351371369894906, 0.7469893462899109, 0.5, 0.7312021079976754, 0.7512211401042125, 0.7465556434433189, 0.74674963126038]}, {\"categories\": [\"0\", \"1\", \"2\", \"3\", \"4\", \"5\", \"6\", \"7\", \"8\", \"9\", \"10\", \"11\", \"12\", \"13\", \"14\", \"15\", \"16\", \"17\", \"18\", \"19\", \"20\", \"21\", \"22\", \"23\", \"24\", \"25\", \"26\", \"27\", \"28\", \"29\", \"30\", \"31\", \"32\", \"33\", \"34\", \"35\", \"36\"], \"mode\": \"lines\", \"name\": \"recall_score_macro_max\", \"stepped\": true, \"type\": \"scatter\", \"data\": [0.7554891399015198, 0.7554891399015198, 0.7554891399015198, 0.7554891399015198, 0.7554891399015198, 0.7554891399015198, 0.7554891399015198, 0.7554891399015198, 0.7554891399015198, 0.7554891399015198, 0.7554891399015198, 0.7554891399015198, 0.7554891399015198, 0.8580031575675224, 0.8580031575675224, 0.8716444043074045, 0.8716444043074045, 0.8716444043074045, 0.8716444043074045, 0.8716444043074045, 0.8784115000250214, 0.8784115000250214, 0.8784115000250214, 0.8784115000250214, 0.8784115000250214, 0.8784115000250214, 0.8784115000250214, 0.8784115000250214, 0.8784115000250214, 0.8784115000250214, 0.8784115000250214, 0.8784115000250214, 0.8784115000250214, 0.8784115000250214, 0.8784115000250214, 0.8784115000250214, 0.8784115000250214]}], \"norm_macro_recall\": [{\"categories\": [\"0\", \"1\", \"2\", \"3\", \"4\", \"5\", \"6\", \"7\", \"8\", \"9\", \"10\", \"11\", \"12\", \"13\", \"14\", \"15\", \"16\", \"17\", \"18\", \"19\", \"20\", \"21\", \"22\", \"23\", \"24\", \"25\", \"26\", \"27\", \"28\", \"29\", \"30\", \"31\", \"32\", \"33\", \"34\", \"35\", \"36\"], \"mode\": \"markers\", \"name\": \"norm_macro_recall\", \"stepped\": false, \"type\": \"scatter\", \"data\": [0.5109782798030394, 0.5100486388386865, 0.43497485968155825, 0.500001321634398, 0.382865702804507, 0.004593357169579937, 0.36628262912275356, 0.3742416641320271, 0.003003085800431027, 0.4110897695734798, 0.24475054938445892, 0.4124656256811649, 0.3868550422438037, 0.7160063151350451, 0.5025686132359176, 0.743288808614809, 0.37982699877193427, 0.16264160136464723, 0.4400961436617859, 0.7351494794285284, 0.7568230000500428, 0.4584725793230433, 0.4778164733916393, 0.0, 0.5132829640086813, 0.0, 0.46055211532256646, 0.3775221475227748, 0.39607463559709294, 0.0, 0.4702742739789814, 0.49397869257982163, 0.0, 0.4624042159953506, 0.5024422802084249, 0.49311128688663775, 0.49349926252076]}, {\"categories\": [\"0\", \"1\", \"2\", \"3\", \"4\", \"5\", \"6\", \"7\", \"8\", \"9\", \"10\", \"11\", \"12\", \"13\", \"14\", \"15\", \"16\", \"17\", \"18\", \"19\", \"20\", \"21\", \"22\", \"23\", \"24\", \"25\", \"26\", \"27\", \"28\", \"29\", \"30\", \"31\", \"32\", \"33\", \"34\", \"35\", \"36\"], \"mode\": \"lines\", \"name\": \"norm_macro_recall_max\", \"stepped\": true, \"type\": \"scatter\", \"data\": [0.5109782798030394, 0.5109782798030394, 0.5109782798030394, 0.5109782798030394, 0.5109782798030394, 0.5109782798030394, 0.5109782798030394, 0.5109782798030394, 0.5109782798030394, 0.5109782798030394, 0.5109782798030394, 0.5109782798030394, 0.5109782798030394, 0.7160063151350451, 0.7160063151350451, 0.743288808614809, 0.743288808614809, 0.743288808614809, 0.743288808614809, 0.743288808614809, 0.7568230000500428, 0.7568230000500428, 0.7568230000500428, 0.7568230000500428, 0.7568230000500428, 0.7568230000500428, 0.7568230000500428, 0.7568230000500428, 0.7568230000500428, 0.7568230000500428, 0.7568230000500428, 0.7568230000500428, 0.7568230000500428, 0.7568230000500428, 0.7568230000500428, 0.7568230000500428, 0.7568230000500428]}], \"log_loss\": [{\"categories\": [\"0\", \"1\", \"2\", \"3\", \"4\", \"5\", \"6\", \"7\", \"8\", \"9\", \"10\", \"11\", \"12\", \"13\", \"14\", \"15\", \"16\", \"17\", \"18\", \"19\", \"20\", \"21\", \"22\", \"23\", \"24\", \"25\", \"26\", \"27\", \"28\", \"29\", \"30\", \"31\", \"32\", \"33\", \"34\", \"35\", \"36\"], \"mode\": \"markers\", \"name\": \"log_loss\", \"stepped\": false, \"type\": \"scatter\", \"data\": [0.17426303734417917, 0.18264147637710984, 0.5555822841696173, 0.6231767877586464, 0.18568122623967726, 0.2513842852922502, 0.21291555979322402, 0.21201702359858238, 0.2901963441356751, 0.18704837951467657, 0.2029060354614765, 0.19616176710640623, 0.21227342368440652, 0.8986589668462033, 0.19423867643525752, 0.3591717229191677, 0.2171303670808214, 0.22080497357882128, 0.20679003030373866, 0.4167900926568374, 0.3652242137986915, 0.17962164755369156, 0.17660653745341268, 0.25434673437742, 0.17330540768490862, 0.411001633815457, 0.18912145718679524, 0.41271590990518126, 0.19276266496624106, 0.28930611489448477, 0.20413652340694632, 0.23109534369691365, 0.26674248563696745, 0.18787523897518987, 0.35890179093607333, 0.3188985405126126, 0.19358228251951437]}, {\"categories\": [\"0\", \"1\", \"2\", \"3\", \"4\", \"5\", \"6\", \"7\", \"8\", \"9\", \"10\", \"11\", \"12\", \"13\", \"14\", \"15\", \"16\", \"17\", \"18\", \"19\", \"20\", \"21\", \"22\", \"23\", \"24\", \"25\", \"26\", \"27\", \"28\", \"29\", \"30\", \"31\", \"32\", \"33\", \"34\", \"35\", \"36\"], \"mode\": \"lines\", \"name\": \"log_loss_min\", \"stepped\": true, \"type\": \"scatter\", \"data\": [0.17426303734417917, 0.17426303734417917, 0.17426303734417917, 0.17426303734417917, 0.17426303734417917, 0.17426303734417917, 0.17426303734417917, 0.17426303734417917, 0.17426303734417917, 0.17426303734417917, 0.17426303734417917, 0.17426303734417917, 0.17426303734417917, 0.17426303734417917, 0.17426303734417917, 0.17426303734417917, 0.17426303734417917, 0.17426303734417917, 0.17426303734417917, 0.17426303734417917, 0.17426303734417917, 0.17426303734417917, 0.17426303734417917, 0.17426303734417917, 0.17330540768490862, 0.17330540768490862, 0.17330540768490862, 0.17330540768490862, 0.17330540768490862, 0.17330540768490862, 0.17330540768490862, 0.17330540768490862, 0.17330540768490862, 0.17330540768490862, 0.17330540768490862, 0.17330540768490862, 0.17330540768490862]}], \"AUC_macro\": [{\"categories\": [\"0\", \"1\", \"2\", \"3\", \"4\", \"5\", \"6\", \"7\", \"8\", \"9\", \"10\", \"11\", \"12\", \"13\", \"14\", \"15\", \"16\", \"17\", \"18\", \"19\", \"20\", \"21\", \"22\", \"23\", \"24\", \"25\", \"26\", \"27\", \"28\", \"29\", \"30\", \"31\", \"32\", \"33\", \"34\", \"35\", \"36\"], \"mode\": \"markers\", \"name\": \"AUC_macro\", \"stepped\": false, \"type\": \"scatter\", \"data\": [0.9483449748114902, 0.9457951996010843, 0.8210691377932392, 0.9343039180822966, 0.9471007553849157, 0.9406215311970619, 0.9334815649280616, 0.9297877882643526, 0.8269944850699946, 0.9441304302225347, 0.9344776100769743, 0.9458429671173031, 0.9305084121959973, 0.9318982036854566, 0.9429905714422251, 0.934948018709985, 0.9274255672101992, 0.9242843976401355, 0.9451481678979764, 0.9189123948385836, 0.9299416327156479, 0.9483685657613744, 0.9467313871467624, 0.9325095138400801, 0.9494086976152634, 0.5, 0.9379538261668448, 0.9345896833446486, 0.9380962682499636, 0.8639595337351977, 0.935385222671354, 0.9380312411610834, 0.9095948926743421, 0.9391956644776442, 0.9438268368073073, 0.9492762699380137, 0.9495075175358588]}, {\"categories\": [\"0\", \"1\", \"2\", \"3\", \"4\", \"5\", \"6\", \"7\", \"8\", \"9\", \"10\", \"11\", \"12\", \"13\", \"14\", \"15\", \"16\", \"17\", \"18\", \"19\", \"20\", \"21\", \"22\", \"23\", \"24\", \"25\", \"26\", \"27\", \"28\", \"29\", \"30\", \"31\", \"32\", \"33\", \"34\", \"35\", \"36\"], \"mode\": \"lines\", \"name\": \"AUC_macro_max\", \"stepped\": true, \"type\": \"scatter\", \"data\": [0.9483449748114902, 0.9483449748114902, 0.9483449748114902, 0.9483449748114902, 0.9483449748114902, 0.9483449748114902, 0.9483449748114902, 0.9483449748114902, 0.9483449748114902, 0.9483449748114902, 0.9483449748114902, 0.9483449748114902, 0.9483449748114902, 0.9483449748114902, 0.9483449748114902, 0.9483449748114902, 0.9483449748114902, 0.9483449748114902, 0.9483449748114902, 0.9483449748114902, 0.9483449748114902, 0.9483685657613744, 0.9483685657613744, 0.9483685657613744, 0.9494086976152634, 0.9494086976152634, 0.9494086976152634, 0.9494086976152634, 0.9494086976152634, 0.9494086976152634, 0.9494086976152634, 0.9494086976152634, 0.9494086976152634, 0.9494086976152634, 0.9494086976152634, 0.9494086976152634, 0.9495075175358588]}], \"recall_score_micro\": [{\"categories\": [\"0\", \"1\", \"2\", \"3\", \"4\", \"5\", \"6\", \"7\", \"8\", \"9\", \"10\", \"11\", \"12\", \"13\", \"14\", \"15\", \"16\", \"17\", \"18\", \"19\", \"20\", \"21\", \"22\", \"23\", \"24\", \"25\", \"26\", \"27\", \"28\", \"29\", \"30\", \"31\", \"32\", \"33\", \"34\", \"35\", \"36\"], \"mode\": \"markers\", \"name\": \"recall_score_micro\", \"stepped\": false, \"type\": \"scatter\", \"data\": [0.9141502276176026, 0.9138088012139607, 0.7275417298937784, 0.9133156297420333, 0.912443095599393, 0.8877845220030348, 0.9092564491654022, 0.908421851289833, 0.8876707132018209, 0.9127086494688923, 0.904628224582701, 0.9138467374810318, 0.9087253414264037, 0.8597875569044007, 0.9129362670713201, 0.8192716236722306, 0.9083459787556905, 0.9014036418816389, 0.9145295902883156, 0.8204855842185129, 0.8332701062215477, 0.9154400606980273, 0.9146054628224582, 0.8873672230652504, 0.9158194233687406, 0.8873672230652504, 0.9100151745068285, 0.9095220030349014, 0.9099013657056145, 0.8873672230652504, 0.9066767830045525, 0.9084977238239758, 0.8873672230652504, 0.911267071320182, 0.9156676783004553, 0.9176024279210925, 0.9174506828528072]}, {\"categories\": [\"0\", \"1\", \"2\", \"3\", \"4\", \"5\", \"6\", \"7\", \"8\", \"9\", \"10\", \"11\", \"12\", \"13\", \"14\", \"15\", \"16\", \"17\", \"18\", \"19\", \"20\", \"21\", \"22\", \"23\", \"24\", \"25\", \"26\", \"27\", \"28\", \"29\", \"30\", \"31\", \"32\", \"33\", \"34\", \"35\", \"36\"], \"mode\": \"lines\", \"name\": \"recall_score_micro_max\", \"stepped\": true, \"type\": \"scatter\", \"data\": [0.9141502276176026, 0.9141502276176026, 0.9141502276176026, 0.9141502276176026, 0.9141502276176026, 0.9141502276176026, 0.9141502276176026, 0.9141502276176026, 0.9141502276176026, 0.9141502276176026, 0.9141502276176026, 0.9141502276176026, 0.9141502276176026, 0.9141502276176026, 0.9141502276176026, 0.9141502276176026, 0.9141502276176026, 0.9141502276176026, 0.9145295902883156, 0.9145295902883156, 0.9145295902883156, 0.9154400606980273, 0.9154400606980273, 0.9154400606980273, 0.9158194233687406, 0.9158194233687406, 0.9158194233687406, 0.9158194233687406, 0.9158194233687406, 0.9158194233687406, 0.9158194233687406, 0.9158194233687406, 0.9158194233687406, 0.9158194233687406, 0.9158194233687406, 0.9176024279210925, 0.9176024279210925]}], \"precision_score_weighted\": [{\"categories\": [\"0\", \"1\", \"2\", \"3\", \"4\", \"5\", \"6\", \"7\", \"8\", \"9\", \"10\", \"11\", \"12\", \"13\", \"14\", \"15\", \"16\", \"17\", \"18\", \"19\", \"20\", \"21\", \"22\", \"23\", \"24\", \"25\", \"26\", \"27\", \"28\", \"29\", \"30\", \"31\", \"32\", \"33\", \"34\", \"35\", \"36\"], \"mode\": \"markers\", \"name\": \"precision_score_weighted\", \"stepped\": false, \"type\": \"scatter\", \"data\": [0.9094806557199876, 0.9091826147591725, 0.8721431416632696, 0.9081183270961883, 0.9013862178224382, 0.8874712288273583, 0.8971371810074824, 0.8964811439020792, 0.8292491893852028, 0.9025508862790732, 0.8905732854706192, 0.9038622896471159, 0.8973549635798074, 0.9190050170351662, 0.9080276653347991, 0.9215884174795417, 0.8967257786320519, 0.8916316675892574, 0.9056091958105206, 0.9201402642599437, 0.9235832582671104, 0.9073646225341051, 0.9076546379505489, 0.7874243217525059, 0.9108733859848035, 0.7874243217525059, 0.9029150695445225, 0.8978716845472119, 0.8990914127202869, 0.7874243217525059, 0.9012170576733916, 0.904381489074747, 0.7874243217525059, 0.9040613124939781, 0.9100147346818724, 0.9110352612996289, 0.9109565167181536]}, {\"categories\": [\"0\", \"1\", \"2\", \"3\", \"4\", \"5\", \"6\", \"7\", \"8\", \"9\", \"10\", \"11\", \"12\", \"13\", \"14\", \"15\", \"16\", \"17\", \"18\", \"19\", \"20\", \"21\", \"22\", \"23\", \"24\", \"25\", \"26\", \"27\", \"28\", \"29\", \"30\", \"31\", \"32\", \"33\", \"34\", \"35\", \"36\"], \"mode\": \"lines\", \"name\": \"precision_score_weighted_max\", \"stepped\": true, \"type\": \"scatter\", \"data\": [0.9094806557199876, 0.9094806557199876, 0.9094806557199876, 0.9094806557199876, 0.9094806557199876, 0.9094806557199876, 0.9094806557199876, 0.9094806557199876, 0.9094806557199876, 0.9094806557199876, 0.9094806557199876, 0.9094806557199876, 0.9094806557199876, 0.9190050170351662, 0.9190050170351662, 0.9215884174795417, 0.9215884174795417, 0.9215884174795417, 0.9215884174795417, 0.9215884174795417, 0.9235832582671104, 0.9235832582671104, 0.9235832582671104, 0.9235832582671104, 0.9235832582671104, 0.9235832582671104, 0.9235832582671104, 0.9235832582671104, 0.9235832582671104, 0.9235832582671104, 0.9235832582671104, 0.9235832582671104, 0.9235832582671104, 0.9235832582671104, 0.9235832582671104, 0.9235832582671104, 0.9235832582671104]}], \"f1_score_weighted\": [{\"categories\": [\"0\", \"1\", \"2\", \"3\", \"4\", \"5\", \"6\", \"7\", \"8\", \"9\", \"10\", \"11\", \"12\", \"13\", \"14\", \"15\", \"16\", \"17\", \"18\", \"19\", \"20\", \"21\", \"22\", \"23\", \"24\", \"25\", \"26\", \"27\", \"28\", \"29\", \"30\", \"31\", \"32\", \"33\", \"34\", \"35\", \"36\"], \"mode\": \"markers\", \"name\": \"f1_score_weighted\", \"stepped\": false, \"type\": \"scatter\", \"data\": [0.9113770984794062, 0.9110487537672762, 0.7746849348009028, 0.9101657937641925, 0.9022445334023752, 0.8356464142621312, 0.8986015359706883, 0.8986180353657123, 0.8352202625657362, 0.904412929926569, 0.8841397778493449, 0.9053929679207926, 0.8997553198516984, 0.8779001876882525, 0.9099944790812285, 0.8483496196918325, 0.8989538214070061, 0.8717028420189539, 0.907650575689573, 0.8491125803920078, 0.8590779111516074, 0.9094895155017125, 0.9099550125364795, 0.8344127476440313, 0.912788753605539, 0.8344127476440313, 0.905460199289366, 0.8996872180809206, 0.9012859900078759, 0.8344127476440313, 0.9034460866636849, 0.9061379998144312, 0.8344127476440313, 0.9065029456247418, 0.9121245882158474, 0.9131510661231012, 0.9130458186718965]}, {\"categories\": [\"0\", \"1\", \"2\", \"3\", \"4\", \"5\", \"6\", \"7\", \"8\", \"9\", \"10\", \"11\", \"12\", \"13\", \"14\", \"15\", \"16\", \"17\", \"18\", \"19\", \"20\", \"21\", \"22\", \"23\", \"24\", \"25\", \"26\", \"27\", \"28\", \"29\", \"30\", \"31\", \"32\", \"33\", \"34\", \"35\", \"36\"], \"mode\": \"lines\", \"name\": \"f1_score_weighted_max\", \"stepped\": true, \"type\": \"scatter\", \"data\": [0.9113770984794062, 0.9113770984794062, 0.9113770984794062, 0.9113770984794062, 0.9113770984794062, 0.9113770984794062, 0.9113770984794062, 0.9113770984794062, 0.9113770984794062, 0.9113770984794062, 0.9113770984794062, 0.9113770984794062, 0.9113770984794062, 0.9113770984794062, 0.9113770984794062, 0.9113770984794062, 0.9113770984794062, 0.9113770984794062, 0.9113770984794062, 0.9113770984794062, 0.9113770984794062, 0.9113770984794062, 0.9113770984794062, 0.9113770984794062, 0.912788753605539, 0.912788753605539, 0.912788753605539, 0.912788753605539, 0.912788753605539, 0.912788753605539, 0.912788753605539, 0.912788753605539, 0.912788753605539, 0.912788753605539, 0.912788753605539, 0.9131510661231012, 0.9131510661231012]}], \"accuracy\": [{\"categories\": [\"0\", \"1\", \"2\", \"3\", \"4\", \"5\", \"6\", \"7\", \"8\", \"9\", \"10\", \"11\", \"12\", \"13\", \"14\", \"15\", \"16\", \"17\", \"18\", \"19\", \"20\", \"21\", \"22\", \"23\", \"24\", \"25\", \"26\", \"27\", \"28\", \"29\", \"30\", \"31\", \"32\", \"33\", \"34\", \"35\", \"36\"], \"mode\": \"markers\", \"name\": \"accuracy\", \"stepped\": false, \"type\": \"scatter\", \"data\": [0.9141502276176026, 0.9138088012139607, 0.7275417298937784, 0.9133156297420333, 0.912443095599393, 0.8877845220030348, 0.9092564491654022, 0.908421851289833, 0.8876707132018209, 0.9127086494688923, 0.904628224582701, 0.9138467374810318, 0.9087253414264037, 0.8597875569044007, 0.9129362670713201, 0.8192716236722306, 0.9083459787556905, 0.9014036418816389, 0.9145295902883156, 0.8204855842185129, 0.8332701062215477, 0.9154400606980273, 0.9146054628224582, 0.8873672230652504, 0.9158194233687406, 0.8873672230652504, 0.9100151745068285, 0.9095220030349014, 0.9099013657056145, 0.8873672230652504, 0.9066767830045525, 0.9084977238239758, 0.8873672230652504, 0.911267071320182, 0.9156676783004553, 0.9176024279210925, 0.9174506828528072]}, {\"categories\": [\"0\", \"1\", \"2\", \"3\", \"4\", \"5\", \"6\", \"7\", \"8\", \"9\", \"10\", \"11\", \"12\", \"13\", \"14\", \"15\", \"16\", \"17\", \"18\", \"19\", \"20\", \"21\", \"22\", \"23\", \"24\", \"25\", \"26\", \"27\", \"28\", \"29\", \"30\", \"31\", \"32\", \"33\", \"34\", \"35\", \"36\"], \"mode\": \"lines\", \"name\": \"accuracy_max\", \"stepped\": true, \"type\": \"scatter\", \"data\": [0.9141502276176026, 0.9141502276176026, 0.9141502276176026, 0.9141502276176026, 0.9141502276176026, 0.9141502276176026, 0.9141502276176026, 0.9141502276176026, 0.9141502276176026, 0.9141502276176026, 0.9141502276176026, 0.9141502276176026, 0.9141502276176026, 0.9141502276176026, 0.9141502276176026, 0.9141502276176026, 0.9141502276176026, 0.9141502276176026, 0.9145295902883156, 0.9145295902883156, 0.9145295902883156, 0.9154400606980273, 0.9154400606980273, 0.9154400606980273, 0.9158194233687406, 0.9158194233687406, 0.9158194233687406, 0.9158194233687406, 0.9158194233687406, 0.9158194233687406, 0.9158194233687406, 0.9158194233687406, 0.9158194233687406, 0.9158194233687406, 0.9158194233687406, 0.9176024279210925, 0.9176024279210925]}], \"AUC_weighted\": [{\"categories\": [\"0\", \"1\", \"2\", \"3\", \"4\", \"5\", \"6\", \"7\", \"8\", \"9\", \"10\", \"11\", \"12\", \"13\", \"14\", \"15\", \"16\", \"17\", \"18\", \"19\", \"20\", \"21\", \"22\", \"23\", \"24\", \"25\", \"26\", \"27\", \"28\", \"29\", \"30\", \"31\", \"32\", \"33\", \"34\", \"35\", \"36\"], \"mode\": \"markers\", \"name\": \"AUC_weighted\", \"stepped\": false, \"type\": \"scatter\", \"data\": [0.9483449748114902, 0.9457951859042316, 0.8210691377932393, 0.9343039180822968, 0.9471007553849156, 0.9406215311970619, 0.9334815649280616, 0.9297877882643526, 0.8269944850699946, 0.944130430222535, 0.934477610076974, 0.9458429816213219, 0.9305084121959973, 0.9318982036854564, 0.9429905714422249, 0.934948018709985, 0.9274255672101994, 0.9242843976401354, 0.9451481678979763, 0.9189123948385836, 0.9299416327156479, 0.9483685796459944, 0.9467313871467624, 0.9325095138400803, 0.9494086976152634, 0.5, 0.9379538261668449, 0.9345896694600284, 0.9380962682499636, 0.8639595337351977, 0.9353852364749751, 0.9380312570916669, 0.9095948926743421, 0.939195664477644, 0.9438268368073073, 0.9492762699380137, 0.9495075175358588]}, {\"categories\": [\"0\", \"1\", \"2\", \"3\", \"4\", \"5\", \"6\", \"7\", \"8\", \"9\", \"10\", \"11\", \"12\", \"13\", \"14\", \"15\", \"16\", \"17\", \"18\", \"19\", \"20\", \"21\", \"22\", \"23\", \"24\", \"25\", \"26\", \"27\", \"28\", \"29\", \"30\", \"31\", \"32\", \"33\", \"34\", \"35\", \"36\"], \"mode\": \"lines\", \"name\": \"AUC_weighted_max\", \"stepped\": true, \"type\": \"scatter\", \"data\": [0.9483449748114902, 0.9483449748114902, 0.9483449748114902, 0.9483449748114902, 0.9483449748114902, 0.9483449748114902, 0.9483449748114902, 0.9483449748114902, 0.9483449748114902, 0.9483449748114902, 0.9483449748114902, 0.9483449748114902, 0.9483449748114902, 0.9483449748114902, 0.9483449748114902, 0.9483449748114902, 0.9483449748114902, 0.9483449748114902, 0.9483449748114902, 0.9483449748114902, 0.9483449748114902, 0.9483685796459944, 0.9483685796459944, 0.9483685796459944, 0.9494086976152634, 0.9494086976152634, 0.9494086976152634, 0.9494086976152634, 0.9494086976152634, 0.9494086976152634, 0.9494086976152634, 0.9494086976152634, 0.9494086976152634, 0.9494086976152634, 0.9494086976152634, 0.9494086976152634, 0.9495075175358588]}], \"precision_score_macro\": [{\"categories\": [\"0\", \"1\", \"2\", \"3\", \"4\", \"5\", \"6\", \"7\", \"8\", \"9\", \"10\", \"11\", \"12\", \"13\", \"14\", \"15\", \"16\", \"17\", \"18\", \"19\", \"20\", \"21\", \"22\", \"23\", \"24\", \"25\", \"26\", \"27\", \"28\", \"29\", \"30\", \"31\", \"32\", \"33\", \"34\", \"35\", \"36\"], \"mode\": \"markers\", \"name\": \"precision_score_macro\", \"stepped\": false, \"type\": \"scatter\", \"data\": [0.7908292547918728, 0.7895857520476075, 0.6003378254973637, 0.7892582085109676, 0.8084807107268202, 0.8855797533503669, 0.7959921254132959, 0.7893350752936472, 0.6313332280998297, 0.8021721833722252, 0.8137867937414651, 0.8076869120600769, 0.7881098560728939, 0.7110900880573485, 0.7877172080545488, 0.6844671443233127, 0.7882636241841635, 0.8484768988837544, 0.8040998147585524, 0.6838584612197074, 0.6941460205778563, 0.804246068330446, 0.7969699553234928, 0.4436836115326252, 0.7963613265936305, 0.4436836115326252, 0.7823212847617455, 0.7944164173274799, 0.792412705004358, 0.4436836115326252, 0.7696446282264857, 0.7740203530958853, 0.4436836115326252, 0.7869448388426404, 0.7973422251422626, 0.8063794111862382, 0.8058226910061158]}, {\"categories\": [\"0\", \"1\", \"2\", \"3\", \"4\", \"5\", \"6\", \"7\", \"8\", \"9\", \"10\", \"11\", \"12\", \"13\", \"14\", \"15\", \"16\", \"17\", \"18\", \"19\", \"20\", \"21\", \"22\", \"23\", \"24\", \"25\", \"26\", \"27\", \"28\", \"29\", \"30\", \"31\", \"32\", \"33\", \"34\", \"35\", \"36\"], \"mode\": \"lines\", \"name\": \"precision_score_macro_max\", \"stepped\": true, \"type\": \"scatter\", \"data\": [0.7908292547918728, 0.7908292547918728, 0.7908292547918728, 0.7908292547918728, 0.8084807107268202, 0.8855797533503669, 0.8855797533503669, 0.8855797533503669, 0.8855797533503669, 0.8855797533503669, 0.8855797533503669, 0.8855797533503669, 0.8855797533503669, 0.8855797533503669, 0.8855797533503669, 0.8855797533503669, 0.8855797533503669, 0.8855797533503669, 0.8855797533503669, 0.8855797533503669, 0.8855797533503669, 0.8855797533503669, 0.8855797533503669, 0.8855797533503669, 0.8855797533503669, 0.8855797533503669, 0.8855797533503669, 0.8855797533503669, 0.8855797533503669, 0.8855797533503669, 0.8855797533503669, 0.8855797533503669, 0.8855797533503669, 0.8855797533503669, 0.8855797533503669, 0.8855797533503669, 0.8855797533503669]}], \"balanced_accuracy\": [{\"categories\": [\"0\", \"1\", \"2\", \"3\", \"4\", \"5\", \"6\", \"7\", \"8\", \"9\", \"10\", \"11\", \"12\", \"13\", \"14\", \"15\", \"16\", \"17\", \"18\", \"19\", \"20\", \"21\", \"22\", \"23\", \"24\", \"25\", \"26\", \"27\", \"28\", \"29\", \"30\", \"31\", \"32\", \"33\", \"34\", \"35\", \"36\"], \"mode\": \"markers\", \"name\": \"balanced_accuracy\", \"stepped\": false, \"type\": \"scatter\", \"data\": [0.7554891399015198, 0.7550243194193432, 0.7174874298407792, 0.750000660817199, 0.6914328514022535, 0.5022966785847899, 0.6831413145613767, 0.6871208320660135, 0.5015015429002154, 0.7055448847867399, 0.6223752746922294, 0.7062328128405825, 0.6934275211219018, 0.8580031575675224, 0.7512843066179589, 0.8716444043074045, 0.6899134993859671, 0.5813208006823236, 0.7200480718308929, 0.867574739714264, 0.8784115000250214, 0.7292362896615217, 0.7389082366958195, 0.5, 0.7566414820043407, 0.5, 0.7302760576612831, 0.6887610737613874, 0.6980373177985464, 0.5, 0.7351371369894906, 0.7469893462899109, 0.5, 0.7312021079976754, 0.7512211401042125, 0.7465556434433189, 0.74674963126038]}, {\"categories\": [\"0\", \"1\", \"2\", \"3\", \"4\", \"5\", \"6\", \"7\", \"8\", \"9\", \"10\", \"11\", \"12\", \"13\", \"14\", \"15\", \"16\", \"17\", \"18\", \"19\", \"20\", \"21\", \"22\", \"23\", \"24\", \"25\", \"26\", \"27\", \"28\", \"29\", \"30\", \"31\", \"32\", \"33\", \"34\", \"35\", \"36\"], \"mode\": \"lines\", \"name\": \"balanced_accuracy_max\", \"stepped\": true, \"type\": \"scatter\", \"data\": [0.7554891399015198, 0.7554891399015198, 0.7554891399015198, 0.7554891399015198, 0.7554891399015198, 0.7554891399015198, 0.7554891399015198, 0.7554891399015198, 0.7554891399015198, 0.7554891399015198, 0.7554891399015198, 0.7554891399015198, 0.7554891399015198, 0.8580031575675224, 0.8580031575675224, 0.8716444043074045, 0.8716444043074045, 0.8716444043074045, 0.8716444043074045, 0.8716444043074045, 0.8784115000250214, 0.8784115000250214, 0.8784115000250214, 0.8784115000250214, 0.8784115000250214, 0.8784115000250214, 0.8784115000250214, 0.8784115000250214, 0.8784115000250214, 0.8784115000250214, 0.8784115000250214, 0.8784115000250214, 0.8784115000250214, 0.8784115000250214, 0.8784115000250214, 0.8784115000250214, 0.8784115000250214]}], \"average_precision_score_macro\": [{\"categories\": [\"0\", \"1\", \"2\", \"3\", \"4\", \"5\", \"6\", \"7\", \"8\", \"9\", \"10\", \"11\", \"12\", \"13\", \"14\", \"15\", \"16\", \"17\", \"18\", \"19\", \"20\", \"21\", \"22\", \"23\", \"24\", \"25\", \"26\", \"27\", \"28\", \"29\", \"30\", \"31\", \"32\", \"33\", \"34\", \"35\", \"36\"], \"mode\": \"markers\", \"name\": \"average_precision_score_macro\", \"stepped\": false, \"type\": \"scatter\", \"data\": [0.825022710637794, 0.8190861786051942, 0.7052252293463581, 0.813673073278044, 0.825818696456613, 0.8172777103963904, 0.802016483917046, 0.7908196351180218, 0.7088574298548072, 0.8209989151741081, 0.8019967471277931, 0.8253513024285155, 0.7903729770085552, 0.7778213264549827, 0.8101151403274918, 0.8047296555756009, 0.7842165259829306, 0.784749248305641, 0.8217341028228444, 0.7607056686650988, 0.7914184241276206, 0.8257204257568411, 0.8242678134948169, 0.7990469478009714, 0.8279237147768704, 0.5, 0.8106210143297077, 0.8063486898977942, 0.8096837938825914, 0.7264818187209501, 0.7949692041879176, 0.8011682973975349, 0.7476721174247412, 0.8128567192229529, 0.8235304154461087, 0.8297800453155683, 0.8297830427882502]}, {\"categories\": [\"0\", \"1\", \"2\", \"3\", \"4\", \"5\", \"6\", \"7\", \"8\", \"9\", \"10\", \"11\", \"12\", \"13\", \"14\", \"15\", \"16\", \"17\", \"18\", \"19\", \"20\", \"21\", \"22\", \"23\", \"24\", \"25\", \"26\", \"27\", \"28\", \"29\", \"30\", \"31\", \"32\", \"33\", \"34\", \"35\", \"36\"], \"mode\": \"lines\", \"name\": \"average_precision_score_macro_max\", \"stepped\": true, \"type\": \"scatter\", \"data\": [0.825022710637794, 0.825022710637794, 0.825022710637794, 0.825022710637794, 0.825818696456613, 0.825818696456613, 0.825818696456613, 0.825818696456613, 0.825818696456613, 0.825818696456613, 0.825818696456613, 0.825818696456613, 0.825818696456613, 0.825818696456613, 0.825818696456613, 0.825818696456613, 0.825818696456613, 0.825818696456613, 0.825818696456613, 0.825818696456613, 0.825818696456613, 0.825818696456613, 0.825818696456613, 0.825818696456613, 0.8279237147768704, 0.8279237147768704, 0.8279237147768704, 0.8279237147768704, 0.8279237147768704, 0.8279237147768704, 0.8279237147768704, 0.8279237147768704, 0.8279237147768704, 0.8279237147768704, 0.8279237147768704, 0.8297800453155683, 0.8297830427882502]}]}, \"metricName\": null, \"primaryMetricName\": \"accuracy\", \"showLegend\": false}, \"run_metrics\": [{\"name\": \"AUC_weighted\", \"run_id\": \"AutoML_baa48f77-fb5d-4aec-8819-131a07270c28\", \"categories\": [0], \"series\": [{\"data\": [0.9492762699380137]}]}, {\"name\": \"precision_score_macro\", \"run_id\": \"AutoML_baa48f77-fb5d-4aec-8819-131a07270c28\", \"categories\": [0], \"series\": [{\"data\": [0.8063794111862382]}]}, {\"name\": \"average_precision_score_macro\", \"run_id\": \"AutoML_baa48f77-fb5d-4aec-8819-131a07270c28\", \"categories\": [0], \"series\": [{\"data\": [0.8297800453155683]}]}, {\"name\": \"AUC_macro\", \"run_id\": \"AutoML_baa48f77-fb5d-4aec-8819-131a07270c28\", \"categories\": [0], \"series\": [{\"data\": [0.9492762699380137]}]}, {\"name\": \"f1_score_micro\", \"run_id\": \"AutoML_baa48f77-fb5d-4aec-8819-131a07270c28\", \"categories\": [0], \"series\": [{\"data\": [0.9176024279210925]}]}, {\"name\": \"balanced_accuracy\", \"run_id\": \"AutoML_baa48f77-fb5d-4aec-8819-131a07270c28\", \"categories\": [0], \"series\": [{\"data\": [0.7465556434433189]}]}, {\"name\": \"f1_score_weighted\", \"run_id\": \"AutoML_baa48f77-fb5d-4aec-8819-131a07270c28\", \"categories\": [0], \"series\": [{\"data\": [0.9131510661231012]}]}, {\"name\": \"recall_score_micro\", \"run_id\": \"AutoML_baa48f77-fb5d-4aec-8819-131a07270c28\", \"categories\": [0], \"series\": [{\"data\": [0.9176024279210925]}]}, {\"name\": \"log_loss\", \"run_id\": \"AutoML_baa48f77-fb5d-4aec-8819-131a07270c28\", \"categories\": [0], \"series\": [{\"data\": [0.3188985405126126]}]}, {\"name\": \"norm_macro_recall\", \"run_id\": \"AutoML_baa48f77-fb5d-4aec-8819-131a07270c28\", \"categories\": [0], \"series\": [{\"data\": [0.49311128688663775]}]}, {\"name\": \"precision_score_micro\", \"run_id\": \"AutoML_baa48f77-fb5d-4aec-8819-131a07270c28\", \"categories\": [0], \"series\": [{\"data\": [0.9176024279210925]}]}, {\"name\": \"average_precision_score_micro\", \"run_id\": \"AutoML_baa48f77-fb5d-4aec-8819-131a07270c28\", \"categories\": [0], \"series\": [{\"data\": [0.9818704711505223]}]}, {\"name\": \"matthews_correlation\", \"run_id\": \"AutoML_baa48f77-fb5d-4aec-8819-131a07270c28\", \"categories\": [0], \"series\": [{\"data\": [0.5496225675850488]}]}, {\"name\": \"AUC_micro\", \"run_id\": \"AutoML_baa48f77-fb5d-4aec-8819-131a07270c28\", \"categories\": [0], \"series\": [{\"data\": [0.9811659242518094]}]}, {\"name\": \"average_precision_score_weighted\", \"run_id\": \"AutoML_baa48f77-fb5d-4aec-8819-131a07270c28\", \"categories\": [0], \"series\": [{\"data\": [0.9564929934904229]}]}, {\"name\": \"f1_score_macro\", \"run_id\": \"AutoML_baa48f77-fb5d-4aec-8819-131a07270c28\", \"categories\": [0], \"series\": [{\"data\": [0.7718754808221746]}]}, {\"name\": \"accuracy\", \"run_id\": \"AutoML_baa48f77-fb5d-4aec-8819-131a07270c28\", \"categories\": [0], \"series\": [{\"data\": [0.9176024279210925]}]}, {\"name\": \"weighted_accuracy\", \"run_id\": \"AutoML_baa48f77-fb5d-4aec-8819-131a07270c28\", \"categories\": [0], \"series\": [{\"data\": [0.9603002351672952]}]}, {\"name\": \"recall_score_macro\", \"run_id\": \"AutoML_baa48f77-fb5d-4aec-8819-131a07270c28\", \"categories\": [0], \"series\": [{\"data\": [0.7465556434433189]}]}, {\"name\": \"precision_score_weighted\", \"run_id\": \"AutoML_baa48f77-fb5d-4aec-8819-131a07270c28\", \"categories\": [0], \"series\": [{\"data\": [0.9110352612996289]}]}, {\"name\": \"recall_score_weighted\", \"run_id\": \"AutoML_baa48f77-fb5d-4aec-8819-131a07270c28\", \"categories\": [0], \"series\": [{\"data\": [0.9176024279210925]}]}], \"run_logs\": \"\\nRun is completed.\", \"graph\": {}, \"widget_settings\": {\"childWidgetDisplay\": \"popup\", \"send_telemetry\": false, \"log_level\": \"INFO\", \"sdk_version\": \"1.40.0\"}, \"loading\": false}"
     },
     "metadata": {},
     "output_type": "display_data"
    }
   ],
   "source": [
    "   RunDetails(remote_run).show()"
   ]
  },
  {
   "cell_type": "markdown",
   "metadata": {},
   "source": [
    "## Best Model\n",
    "\n",
    "TODO: In the cell below, get the best model from the automl experiments and display all the properties of the model.\n",
    "\n"
   ]
  },
  {
   "cell_type": "code",
   "execution_count": 55,
   "metadata": {
    "gather": {
     "logged": 1598431425670
    },
    "jupyter": {
     "outputs_hidden": false,
     "source_hidden": false
    },
    "nteract": {
     "transient": {
      "deleting": false
     }
    }
   },
   "outputs": [],
   "source": [
    "# Retrieve and save your best automl model.\n",
    "\n",
    "best_run,fitted_model=remote_run.get_output()\n"
   ]
  },
  {
   "cell_type": "code",
   "execution_count": 56,
   "metadata": {},
   "outputs": [
    {
     "data": {
      "text/html": [
       "<table style=\"width:100%\"><tr><th>Experiment</th><th>Id</th><th>Type</th><th>Status</th><th>Details Page</th><th>Docs Page</th></tr><tr><td>AutoML_experiment</td><td>AutoML_baa48f77-fb5d-4aec-8819-131a07270c28_35</td><td></td><td>Completed</td><td><a href=\"https://ml.azure.com/runs/AutoML_baa48f77-fb5d-4aec-8819-131a07270c28_35?wsid=/subscriptions/3e42d11f-d64d-4173-af9b-12ecaa1030b3/resourcegroups/aml-quickstarts-195691/workspaces/quick-starts-ws-195691&amp;tid=660b3398-b80e-49d2-bc5b-ac1dc93b5254\" target=\"_blank\" rel=\"noopener\">Link to Azure Machine Learning studio</a></td><td><a href=\"https://docs.microsoft.com/en-us/python/api/azureml-core/azureml.core.run.Run?view=azure-ml-py\" target=\"_blank\" rel=\"noopener\">Link to Documentation</a></td></tr></table>"
      ],
      "text/plain": [
       "Run(Experiment: AutoML_experiment,\n",
       "Id: AutoML_baa48f77-fb5d-4aec-8819-131a07270c28_35,\n",
       "Type: None,\n",
       "Status: Completed)"
      ]
     },
     "execution_count": 56,
     "metadata": {},
     "output_type": "execute_result"
    }
   ],
   "source": [
    "best_run"
   ]
  },
  {
   "cell_type": "code",
   "execution_count": 59,
   "metadata": {
    "gather": {
     "logged": 1598431426111
    },
    "jupyter": {
     "outputs_hidden": false,
     "source_hidden": false
    },
    "nteract": {
     "transient": {
      "deleting": false
     }
    }
   },
   "outputs": [
    {
     "data": {
      "text/plain": [
       "['automl_best_model']"
      ]
     },
     "execution_count": 59,
     "metadata": {},
     "output_type": "execute_result"
    }
   ],
   "source": [
    "#TODO: Save the best model\n",
    "joblib.dump(fitted_model,'automl_best_model')"
   ]
  },
  {
   "cell_type": "markdown",
   "metadata": {},
   "source": [
    "## Model Deployment\n",
    "\n",
    "Remember you have to deploy only one of the two models you trained but you still need to register both the models. Perform the steps in the rest of this notebook only if you wish to deploy this model.\n",
    "\n",
    "TODO: In the cell below, register the model, create an inference config and deploy the model as a web service."
   ]
  },
  {
   "cell_type": "code",
   "execution_count": 60,
   "metadata": {
    "gather": {
     "logged": 1598431435189
    },
    "jupyter": {
     "outputs_hidden": false,
     "source_hidden": false
    },
    "nteract": {
     "transient": {
      "deleting": false
     }
    }
   },
   "outputs": [],
   "source": [
    "automl_model=remote_run.register_model(model_name='automl_best_model')#,\n",
    "#                                        model_path='outputs/automml_best_model.joblib')"
   ]
  },
  {
   "cell_type": "code",
   "execution_count": 37,
   "metadata": {},
   "outputs": [
    {
     "name": "stdout",
     "output_type": "stream",
     "text": [
      "Registering model automl_best_model.joblib\n"
     ]
    }
   ],
   "source": [
    "#automl_model_register=Model.register(ws,model_name='automl_best_model.joblib',model_path='./automl_best_model.joblib')"
   ]
  },
  {
   "cell_type": "code",
   "execution_count": 61,
   "metadata": {},
   "outputs": [
    {
     "data": {
      "text/plain": [
       "Model(workspace=Workspace.create(name='quick-starts-ws-195691', subscription_id='3e42d11f-d64d-4173-af9b-12ecaa1030b3', resource_group='aml-quickstarts-195691'), name=automl_best_model, id=automl_best_model:1, version=1, tags={}, properties={})"
      ]
     },
     "execution_count": 61,
     "metadata": {},
     "output_type": "execute_result"
    }
   ],
   "source": [
    "automl_model"
   ]
  },
  {
   "cell_type": "code",
   "execution_count": null,
   "metadata": {},
   "outputs": [],
   "source": []
  },
  {
   "cell_type": "code",
   "execution_count": 67,
   "metadata": {},
   "outputs": [
    {
     "ename": "UserErrorException",
     "evalue": "UserErrorException:\n\tMessage: There is no run definition or environment specified for the run.\n\tInnerException None\n\tErrorResponse \n{\n    \"error\": {\n        \"code\": \"UserError\",\n        \"message\": \"There is no run definition or environment specified for the run.\"\n    }\n}",
     "output_type": "error",
     "traceback": [
      "\u001b[0;31m---------------------------------------------------------------------------\u001b[0m",
      "\u001b[0;31mUserErrorException\u001b[0m                        Traceback (most recent call last)",
      "\u001b[0;32m<ipython-input-67-2df66a399342>\u001b[0m in \u001b[0;36m<module>\u001b[0;34m\u001b[0m\n\u001b[1;32m      1\u001b[0m \u001b[0;32mfrom\u001b[0m \u001b[0mazureml\u001b[0m\u001b[0;34m.\u001b[0m\u001b[0mcore\u001b[0m\u001b[0;34m.\u001b[0m\u001b[0mmodel\u001b[0m \u001b[0;32mimport\u001b[0m \u001b[0mInferenceConfig\u001b[0m\u001b[0;34m\u001b[0m\u001b[0;34m\u001b[0m\u001b[0m\n\u001b[1;32m      2\u001b[0m \u001b[0;34m\u001b[0m\u001b[0m\n\u001b[0;32m----> 3\u001b[0;31m \u001b[0menvironment\u001b[0m \u001b[0;34m=\u001b[0m \u001b[0mbest_run\u001b[0m\u001b[0;34m.\u001b[0m\u001b[0mget_context\u001b[0m\u001b[0;34m(\u001b[0m\u001b[0;34m)\u001b[0m\u001b[0;34m.\u001b[0m\u001b[0mget_environment\u001b[0m\u001b[0;34m(\u001b[0m\u001b[0;34m)\u001b[0m\u001b[0;34m\u001b[0m\u001b[0;34m\u001b[0m\u001b[0m\n\u001b[0m\u001b[1;32m      4\u001b[0m \u001b[0minference_config\u001b[0m \u001b[0;34m=\u001b[0m \u001b[0mInferenceConfig\u001b[0m\u001b[0;34m(\u001b[0m\u001b[0mentry_script\u001b[0m\u001b[0;34m=\u001b[0m\u001b[0;34m'score.py'\u001b[0m\u001b[0;34m,\u001b[0m \u001b[0menvironment\u001b[0m\u001b[0;34m=\u001b[0m\u001b[0menvironment\u001b[0m\u001b[0;34m)\u001b[0m\u001b[0;34m\u001b[0m\u001b[0;34m\u001b[0m\u001b[0m\n",
      "\u001b[0;32m/anaconda/envs/azureml_py38/lib/python3.8/site-packages/azureml/core/run.py\u001b[0m in \u001b[0;36mget_environment\u001b[0;34m(self)\u001b[0m\n\u001b[1;32m   1174\u001b[0m         \u001b[0mrun_def\u001b[0m \u001b[0;34m=\u001b[0m \u001b[0mrun_details\u001b[0m\u001b[0;34m.\u001b[0m\u001b[0mget\u001b[0m\u001b[0;34m(\u001b[0m\u001b[0;34m\"runDefinition\"\u001b[0m\u001b[0;34m)\u001b[0m\u001b[0;34m\u001b[0m\u001b[0;34m\u001b[0m\u001b[0m\n\u001b[1;32m   1175\u001b[0m         \u001b[0;32mif\u001b[0m \u001b[0mrun_def\u001b[0m \u001b[0;32mis\u001b[0m \u001b[0;32mNone\u001b[0m\u001b[0;34m:\u001b[0m\u001b[0;34m\u001b[0m\u001b[0;34m\u001b[0m\u001b[0m\n\u001b[0;32m-> 1176\u001b[0;31m             \u001b[0;32mraise\u001b[0m \u001b[0mUserErrorException\u001b[0m\u001b[0;34m(\u001b[0m\u001b[0;34m\"There is no run definition or environment specified for the run.\"\u001b[0m\u001b[0;34m)\u001b[0m\u001b[0;34m\u001b[0m\u001b[0;34m\u001b[0m\u001b[0m\n\u001b[0m\u001b[1;32m   1177\u001b[0m \u001b[0;34m\u001b[0m\u001b[0m\n\u001b[1;32m   1178\u001b[0m         \u001b[0;31m# For parent run there can be a case when there is no environment\u001b[0m\u001b[0;34m\u001b[0m\u001b[0;34m\u001b[0m\u001b[0;34m\u001b[0m\u001b[0m\n",
      "\u001b[0;31mUserErrorException\u001b[0m: UserErrorException:\n\tMessage: There is no run definition or environment specified for the run.\n\tInnerException None\n\tErrorResponse \n{\n    \"error\": {\n        \"code\": \"UserError\",\n        \"message\": \"There is no run definition or environment specified for the run.\"\n    }\n}"
     ]
    }
   ],
   "source": [
    "from azureml.core.model import InferenceConfig\n",
    "\n",
    "environment = best_run.get_context().get_environment()\n",
    "inference_config = InferenceConfig(entry_script='score.py', environment=environment)"
   ]
  },
  {
   "cell_type": "code",
   "execution_count": 69,
   "metadata": {},
   "outputs": [
    {
     "ename": "UserErrorException",
     "evalue": "UserErrorException:\n\tMessage: You must provide an InferenceConfig when deploying a model with model_framework set to Custom. Default environments are only provided for these frameworks: ['Onnx', 'ScikitLearn', 'TensorFlow', 'Multi'].\n\tInnerException None\n\tErrorResponse \n{\n    \"error\": {\n        \"code\": \"UserError\",\n        \"message\": \"You must provide an InferenceConfig when deploying a model with model_framework set to Custom. Default environments are only provided for these frameworks: ['Onnx', 'ScikitLearn', 'TensorFlow', 'Multi'].\"\n    }\n}",
     "output_type": "error",
     "traceback": [
      "\u001b[0;31m---------------------------------------------------------------------------\u001b[0m",
      "\u001b[0;31mUserErrorException\u001b[0m                        Traceback (most recent call last)",
      "\u001b[0;32m<ipython-input-69-57607c632bd9>\u001b[0m in \u001b[0;36m<module>\u001b[0;34m\u001b[0m\n\u001b[1;32m      2\u001b[0m \u001b[0;32mfrom\u001b[0m \u001b[0mazureml\u001b[0m\u001b[0;34m.\u001b[0m\u001b[0mcore\u001b[0m\u001b[0;34m.\u001b[0m\u001b[0mwebservice\u001b[0m \u001b[0;32mimport\u001b[0m \u001b[0mWebservice\u001b[0m\u001b[0;34m\u001b[0m\u001b[0;34m\u001b[0m\u001b[0m\n\u001b[1;32m      3\u001b[0m \u001b[0;34m\u001b[0m\u001b[0m\n\u001b[0;32m----> 4\u001b[0;31m \u001b[0mservice\u001b[0m\u001b[0;34m=\u001b[0m\u001b[0mModel\u001b[0m\u001b[0;34m.\u001b[0m\u001b[0mdeploy\u001b[0m\u001b[0;34m(\u001b[0m\u001b[0mws\u001b[0m\u001b[0;34m,\u001b[0m \u001b[0;34m'automl-webservice'\u001b[0m\u001b[0;34m,\u001b[0m\u001b[0;34m[\u001b[0m\u001b[0mautoml_model\u001b[0m\u001b[0;34m]\u001b[0m\u001b[0;34m)\u001b[0m\u001b[0;34m\u001b[0m\u001b[0;34m\u001b[0m\u001b[0m\n\u001b[0m\u001b[1;32m      5\u001b[0m \u001b[0mservice\u001b[0m\u001b[0;34m.\u001b[0m\u001b[0mwait_for_deployment\u001b[0m\u001b[0;34m(\u001b[0m\u001b[0mshow_output\u001b[0m\u001b[0;34m=\u001b[0m\u001b[0;32mTrue\u001b[0m\u001b[0;34m)\u001b[0m\u001b[0;34m\u001b[0m\u001b[0;34m\u001b[0m\u001b[0m\n",
      "\u001b[0;32m/anaconda/envs/azureml_py38/lib/python3.8/site-packages/azureml/core/model.py\u001b[0m in \u001b[0;36mdeploy\u001b[0;34m(workspace, name, models, inference_config, deployment_config, deployment_target, overwrite, show_output)\u001b[0m\n\u001b[1;32m   1657\u001b[0m                                           logger=module_logger)\n\u001b[1;32m   1658\u001b[0m \u001b[0;34m\u001b[0m\u001b[0m\n\u001b[0;32m-> 1659\u001b[0;31m             return Model._deploy_no_code(workspace, name, models, deployment_config, deployment_target,\n\u001b[0m\u001b[1;32m   1660\u001b[0m                                          overwrite, show_output)\n\u001b[1;32m   1661\u001b[0m \u001b[0;34m\u001b[0m\u001b[0m\n",
      "\u001b[0;32m/anaconda/envs/azureml_py38/lib/python3.8/site-packages/azureml/core/model.py\u001b[0m in \u001b[0;36m_deploy_no_code\u001b[0;34m(workspace, name, models, deployment_config, deployment_target, overwrite, show_output)\u001b[0m\n\u001b[1;32m   1841\u001b[0m         \u001b[0;34m:\u001b[0m\u001b[0mrtype\u001b[0m\u001b[0;34m:\u001b[0m \u001b[0mazureml\u001b[0m\u001b[0;34m.\u001b[0m\u001b[0mcore\u001b[0m\u001b[0;34m.\u001b[0m\u001b[0mWebservice\u001b[0m\u001b[0;34m\u001b[0m\u001b[0;34m\u001b[0m\u001b[0m\n\u001b[1;32m   1842\u001b[0m         \"\"\"\n\u001b[0;32m-> 1843\u001b[0;31m         \u001b[0menvironment_image_request\u001b[0m \u001b[0;34m=\u001b[0m \u001b[0mbuild_and_validate_no_code_environment_image_request\u001b[0m\u001b[0;34m(\u001b[0m\u001b[0mmodels\u001b[0m\u001b[0;34m)\u001b[0m\u001b[0;34m\u001b[0m\u001b[0;34m\u001b[0m\u001b[0m\n\u001b[0m\u001b[1;32m   1844\u001b[0m \u001b[0;34m\u001b[0m\u001b[0m\n\u001b[1;32m   1845\u001b[0m         return Model._deploy_with_environment_image_request(workspace, name, environment_image_request,\n",
      "\u001b[0;32m/anaconda/envs/azureml_py38/lib/python3.8/site-packages/azureml/_model_management/_util.py\u001b[0m in \u001b[0;36mbuild_and_validate_no_code_environment_image_request\u001b[0;34m(models)\u001b[0m\n\u001b[1;32m   1185\u001b[0m \u001b[0;34m\u001b[0m\u001b[0m\n\u001b[1;32m   1186\u001b[0m     \u001b[0;32mif\u001b[0m \u001b[0mmodel\u001b[0m\u001b[0;34m.\u001b[0m\u001b[0mmodel_framework\u001b[0m \u001b[0;32mnot\u001b[0m \u001b[0;32min\u001b[0m \u001b[0mModel\u001b[0m\u001b[0;34m.\u001b[0m\u001b[0m_SUPPORTED_FRAMEWORKS_FOR_NO_CODE_DEPLOY\u001b[0m\u001b[0;34m:\u001b[0m\u001b[0;34m\u001b[0m\u001b[0;34m\u001b[0m\u001b[0m\n\u001b[0;32m-> 1187\u001b[0;31m         raise UserErrorException('You must provide an InferenceConfig when deploying a model with model_framework '\n\u001b[0m\u001b[1;32m   1188\u001b[0m                                  \u001b[0;34m'set to {}. Default environments are only provided for these frameworks: {}.'\u001b[0m\u001b[0;34m\u001b[0m\u001b[0;34m\u001b[0m\u001b[0m\n\u001b[1;32m   1189\u001b[0m                                  .format(model.model_framework, Model._SUPPORTED_FRAMEWORKS_FOR_NO_CODE_DEPLOY))\n",
      "\u001b[0;31mUserErrorException\u001b[0m: UserErrorException:\n\tMessage: You must provide an InferenceConfig when deploying a model with model_framework set to Custom. Default environments are only provided for these frameworks: ['Onnx', 'ScikitLearn', 'TensorFlow', 'Multi'].\n\tInnerException None\n\tErrorResponse \n{\n    \"error\": {\n        \"code\": \"UserError\",\n        \"message\": \"You must provide an InferenceConfig when deploying a model with model_framework set to Custom. Default environments are only provided for these frameworks: ['Onnx', 'ScikitLearn', 'TensorFlow', 'Multi'].\"\n    }\n}"
     ]
    }
   ],
   "source": [
    "from azureml.core import Environment\n",
    "from azureml.core.webservice import Webservice\n",
    "\n",
    "service=Model.deploy(ws, 'automl-webservice',[automl_model])\n",
    "service.wait_for_deployment(show_output=True)"
   ]
  },
  {
   "cell_type": "markdown",
   "metadata": {
    "collapsed": true,
    "gather": {
     "logged": 1598431657736
    },
    "jupyter": {
     "outputs_hidden": false,
     "source_hidden": false
    },
    "nteract": {
     "transient": {
      "deleting": false
     }
    }
   },
   "source": [
    "TODO: In the cell below, send a request to the web service you deployed to test it."
   ]
  },
  {
   "cell_type": "code",
   "execution_count": null,
   "metadata": {
    "gather": {
     "logged": 1598432707604
    },
    "jupyter": {
     "outputs_hidden": false,
     "source_hidden": false
    },
    "nteract": {
     "transient": {
      "deleting": false
     }
    }
   },
   "outputs": [],
   "source": []
  },
  {
   "cell_type": "markdown",
   "metadata": {
    "collapsed": true,
    "gather": {
     "logged": 1598432765711
    },
    "jupyter": {
     "outputs_hidden": false,
     "source_hidden": false
    },
    "nteract": {
     "transient": {
      "deleting": false
     }
    }
   },
   "source": [
    "TODO: In the cell below, print the logs of the web service and delete the service"
   ]
  },
  {
   "cell_type": "code",
   "execution_count": null,
   "metadata": {
    "jupyter": {
     "outputs_hidden": false,
     "source_hidden": false
    },
    "nteract": {
     "transient": {
      "deleting": false
     }
    }
   },
   "outputs": [],
   "source": []
  },
  {
   "cell_type": "markdown",
   "metadata": {},
   "source": [
    "**Submission Checklist**\n",
    "- I have registered the model.\n",
    "- I have deployed the model with the best accuracy as a webservice.\n",
    "- I have tested the webservice by sending a request to the model endpoint.\n",
    "- I have deleted the webservice and shutdown all the computes that I have used.\n",
    "- I have taken a screenshot showing the model endpoint as active.\n",
    "- The project includes a file containing the environment details.\n"
   ]
  },
  {
   "cell_type": "markdown",
   "metadata": {},
   "source": []
  }
 ],
 "metadata": {
  "kernel_info": {
   "name": "python3-azureml"
  },
  "kernelspec": {
   "display_name": "Python 3",
   "language": "python",
   "name": "python3"
  },
  "language_info": {
   "codemirror_mode": {
    "name": "ipython",
    "version": 3
   },
   "file_extension": ".py",
   "mimetype": "text/x-python",
   "name": "python",
   "nbconvert_exporter": "python",
   "pygments_lexer": "ipython3",
   "version": "3.8.5"
  },
  "nteract": {
   "version": "nteract-front-end@1.0.0"
  }
 },
 "nbformat": 4,
 "nbformat_minor": 2
}
